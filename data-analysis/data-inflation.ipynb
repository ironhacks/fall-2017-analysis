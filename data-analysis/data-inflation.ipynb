{
 "cells": [
  {
   "cell_type": "code",
   "execution_count": 7,
   "id": "6a49219b",
   "metadata": {},
   "outputs": [],
   "source": [
    "import pandas as pd \n",
    "df1 = pd.read_csv(\"processed_data/raw_data.csv\")\n",
    "df2 = pd.read_csv(\"processed_data/final_visual.csv\")\n",
    "df3 = pd.read_csv(\"processed_data/novel_20.csv\")\n",
    "df4 = pd.read_csv(\"processed_data/except_min_criteria.csv\")\n",
    "df2 = df2[df2['type'] == 'complete']\n",
    "df1 = df1[['type', 'stage', 'dist_search']]\n",
    "df2 = df2[['type', 'stage', 'dist_search']]\n",
    "df3 = df3[['type', 'stage', 'dist_search']]\n",
    "df1.loc[df1['dist_search'] == 1, 'dist_search'] = 0.99\n",
    "df1.loc[df1['dist_search'] == 0, 'dist_search'] = 0.01\n",
    "df2.loc[df2['dist_search'] == 1, 'dist_search'] = 0.99\n",
    "df2.loc[df2['dist_search'] == 0, 'dist_search'] = 0.01\n",
    "df3.loc[df3['dist_search'] == 1, 'dist_search'] = 0.99\n",
    "df3.loc[df3['dist_search'] == 0, 'dist_search'] = 0.01\n",
    "df4.loc[df4['dist_search'] == 1, 'dist_search'] = 0.99\n",
    "df4.loc[df4['dist_search'] == 0, 'dist_search'] = 0.01\n",
    "df = pd.concat([df1, df2, df3], ignore_index = True)\n",
    "df_rev = pd.concat([df1, df3], ignore_index = True)\n",
    "df2_rev = pd.concat([df2, df3], ignore_index = True)\n",
    "df3_rev = pd.concat([df1, df2], ignore_index = True)\n",
    "df4_rev = pd.concat([df1, df4], ignore_index = True)\n",
    "df5_rev = pd.concat([df2, df4], ignore_index = True)\n",
    "\n",
    "df.to_csv(\"processed_data/all_data.csv\")\n",
    "df_rev.to_csv(\"processed_data/data_novel.csv\")\n",
    "df2_rev.to_csv(\"processed_data/complete_novel.csv\")\n",
    "df3_rev.to_csv(\"processed_data/complete_data.csv\")\n",
    "df4_rev.to_csv(\"processed_data/min_criteria_data.csv\")\n",
    "df5_rev.to_csv(\"processed_data/complete_min_criteria.csv\")"
   ]
  },
  {
   "cell_type": "code",
   "execution_count": null,
   "id": "03f019f3",
   "metadata": {},
   "outputs": [],
   "source": []
  }
 ],
 "metadata": {
  "kernelspec": {
   "display_name": "Python 3",
   "language": "python",
   "name": "python3"
  },
  "language_info": {
   "codemirror_mode": {
    "name": "ipython",
    "version": 3
   },
   "file_extension": ".py",
   "mimetype": "text/x-python",
   "name": "python",
   "nbconvert_exporter": "python",
   "pygments_lexer": "ipython3",
   "version": "3.8.8"
  }
 },
 "nbformat": 4,
 "nbformat_minor": 5
}
