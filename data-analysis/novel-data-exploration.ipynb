{
 "cells": [
  {
   "cell_type": "code",
   "execution_count": 1,
   "id": "b62b80d0",
   "metadata": {},
   "outputs": [],
   "source": [
    "# laod data\n",
    "\n",
    "import pandas as pd\n",
    "import seaborn as sns\n",
    "\n",
    "data1 = pd.read_csv(\"../data/all_score_phase1_update.csv\")\n",
    "data2 = pd.read_csv(\"../data/all_score_phase2_update.csv\")\n",
    "data3 = pd.read_csv(\"../data/all_score_phase3_update.csv\")\n",
    "data4 = pd.read_csv(\"../data/all_score_phase4_update.csv\")\n",
    "data5 = pd.read_csv(\"../data/all_score_phase5_update.csv\")\n",
    "data1['phase'] = 1\n",
    "data2['phase'] = 2\n",
    "data3['phase'] = 3\n",
    "data4['phase'] = 4\n",
    "data5['phase'] = 5"
   ]
  },
  {
   "cell_type": "code",
   "execution_count": 2,
   "id": "1c4e71ac",
   "metadata": {},
   "outputs": [
    {
     "data": {
      "text/html": [
       "<div>\n",
       "<style scoped>\n",
       "    .dataframe tbody tr th:only-of-type {\n",
       "        vertical-align: middle;\n",
       "    }\n",
       "\n",
       "    .dataframe tbody tr th {\n",
       "        vertical-align: top;\n",
       "    }\n",
       "\n",
       "    .dataframe thead th {\n",
       "        text-align: right;\n",
       "    }\n",
       "</style>\n",
       "<table border=\"1\" class=\"dataframe\">\n",
       "  <thead>\n",
       "    <tr style=\"text-align: right;\">\n",
       "      <th></th>\n",
       "      <th>username</th>\n",
       "      <th>hack id</th>\n",
       "      <th>repo name</th>\n",
       "      <th>time</th>\n",
       "      <th>climate dataset</th>\n",
       "      <th>extra dataset used</th>\n",
       "      <th>extra dataset list</th>\n",
       "      <th>google api</th>\n",
       "      <th>location</th>\n",
       "      <th>using JS</th>\n",
       "      <th>...</th>\n",
       "      <th>combined_infovis_norm</th>\n",
       "      <th>combined_infovis_per</th>\n",
       "      <th>novelty</th>\n",
       "      <th>novelty_normal</th>\n",
       "      <th>novelty_per</th>\n",
       "      <th>novelty_detail</th>\n",
       "      <th>total_raw</th>\n",
       "      <th>total_norm</th>\n",
       "      <th>total_norm_per</th>\n",
       "      <th>phase</th>\n",
       "    </tr>\n",
       "  </thead>\n",
       "  <tbody>\n",
       "    <tr>\n",
       "      <th>0</th>\n",
       "      <td>mdecloedt</td>\n",
       "      <td>honors0</td>\n",
       "      <td>IH-Project-2017-mdecloedt_webapp_phase1</td>\n",
       "      <td>Sun Nov  5 20:39:31 2017</td>\n",
       "      <td>0</td>\n",
       "      <td>0</td>\n",
       "      <td>NaN</td>\n",
       "      <td>0</td>\n",
       "      <td>0</td>\n",
       "      <td>1</td>\n",
       "      <td>...</td>\n",
       "      <td>13.043478</td>\n",
       "      <td>70.37%</td>\n",
       "      <td>0</td>\n",
       "      <td>0.000000</td>\n",
       "      <td>0.0%</td>\n",
       "      <td>NaN</td>\n",
       "      <td>9</td>\n",
       "      <td>179.420290</td>\n",
       "      <td>59.26%</td>\n",
       "      <td>1</td>\n",
       "    </tr>\n",
       "    <tr>\n",
       "      <th>1</th>\n",
       "      <td>Jordan-Loeser</td>\n",
       "      <td>honors0</td>\n",
       "      <td>IH-Project-2017-Jordan-Loeser_webapp_phase1</td>\n",
       "      <td>Sun Nov  5 20:39:31 2017</td>\n",
       "      <td>0</td>\n",
       "      <td>0</td>\n",
       "      <td>NaN</td>\n",
       "      <td>1</td>\n",
       "      <td>1</td>\n",
       "      <td>1</td>\n",
       "      <td>...</td>\n",
       "      <td>13.043478</td>\n",
       "      <td>70.37%</td>\n",
       "      <td>0</td>\n",
       "      <td>0.000000</td>\n",
       "      <td>0.0%</td>\n",
       "      <td>NaN</td>\n",
       "      <td>10</td>\n",
       "      <td>194.392041</td>\n",
       "      <td>85.19%</td>\n",
       "      <td>1</td>\n",
       "    </tr>\n",
       "    <tr>\n",
       "      <th>2</th>\n",
       "      <td>LukasMMarinovic</td>\n",
       "      <td>honors0</td>\n",
       "      <td>IH-Project-2017-LukasMMarinovic_webapp_phase1</td>\n",
       "      <td>Sun Nov  5 20:39:31 2017</td>\n",
       "      <td>0</td>\n",
       "      <td>0</td>\n",
       "      <td>NaN</td>\n",
       "      <td>0</td>\n",
       "      <td>0</td>\n",
       "      <td>1</td>\n",
       "      <td>...</td>\n",
       "      <td>8.695652</td>\n",
       "      <td>40.74%</td>\n",
       "      <td>0</td>\n",
       "      <td>0.000000</td>\n",
       "      <td>0.0%</td>\n",
       "      <td>NaN</td>\n",
       "      <td>8</td>\n",
       "      <td>175.584075</td>\n",
       "      <td>55.56%</td>\n",
       "      <td>1</td>\n",
       "    </tr>\n",
       "    <tr>\n",
       "      <th>3</th>\n",
       "      <td>whipplem123</td>\n",
       "      <td>honors0</td>\n",
       "      <td>IH-Project-2017-whipplem123_webapp_phase1</td>\n",
       "      <td>Sun Nov  5 20:39:31 2017</td>\n",
       "      <td>0</td>\n",
       "      <td>0</td>\n",
       "      <td>NaN</td>\n",
       "      <td>0</td>\n",
       "      <td>0</td>\n",
       "      <td>1</td>\n",
       "      <td>...</td>\n",
       "      <td>4.347826</td>\n",
       "      <td>22.22%</td>\n",
       "      <td>0</td>\n",
       "      <td>0.000000</td>\n",
       "      <td>0.0%</td>\n",
       "      <td>NaN</td>\n",
       "      <td>6</td>\n",
       "      <td>158.695652</td>\n",
       "      <td>37.04%</td>\n",
       "      <td>1</td>\n",
       "    </tr>\n",
       "    <tr>\n",
       "      <th>4</th>\n",
       "      <td>SionHu</td>\n",
       "      <td>honors0</td>\n",
       "      <td>IH-Project-2017-SionHu_webapp_phase1</td>\n",
       "      <td>Sun Nov  5 20:39:31 2017</td>\n",
       "      <td>0</td>\n",
       "      <td>0</td>\n",
       "      <td>NaN</td>\n",
       "      <td>1</td>\n",
       "      <td>0</td>\n",
       "      <td>1</td>\n",
       "      <td>...</td>\n",
       "      <td>0.000000</td>\n",
       "      <td>0.0%</td>\n",
       "      <td>0</td>\n",
       "      <td>0.000000</td>\n",
       "      <td>0.0%</td>\n",
       "      <td>NaN</td>\n",
       "      <td>6</td>\n",
       "      <td>158.550725</td>\n",
       "      <td>33.33%</td>\n",
       "      <td>1</td>\n",
       "    </tr>\n",
       "    <tr>\n",
       "      <th>...</th>\n",
       "      <td>...</td>\n",
       "      <td>...</td>\n",
       "      <td>...</td>\n",
       "      <td>...</td>\n",
       "      <td>...</td>\n",
       "      <td>...</td>\n",
       "      <td>...</td>\n",
       "      <td>...</td>\n",
       "      <td>...</td>\n",
       "      <td>...</td>\n",
       "      <td>...</td>\n",
       "      <td>...</td>\n",
       "      <td>...</td>\n",
       "      <td>...</td>\n",
       "      <td>...</td>\n",
       "      <td>...</td>\n",
       "      <td>...</td>\n",
       "      <td>...</td>\n",
       "      <td>...</td>\n",
       "      <td>...</td>\n",
       "      <td>...</td>\n",
       "    </tr>\n",
       "    <tr>\n",
       "      <th>535</th>\n",
       "      <td>RafaelCruz15</td>\n",
       "      <td>unal2</td>\n",
       "      <td>IH-Project-2017-RafaelCruz15_webapp_phase5</td>\n",
       "      <td>Wed Nov 22 08:30:40 2017</td>\n",
       "      <td>0</td>\n",
       "      <td>0</td>\n",
       "      <td>NaN</td>\n",
       "      <td>0</td>\n",
       "      <td>0</td>\n",
       "      <td>1</td>\n",
       "      <td>...</td>\n",
       "      <td>0.000000</td>\n",
       "      <td>0.0%</td>\n",
       "      <td>0</td>\n",
       "      <td>0.000000</td>\n",
       "      <td>0.0%</td>\n",
       "      <td>NaN</td>\n",
       "      <td>3</td>\n",
       "      <td>126.666667</td>\n",
       "      <td>0.0%</td>\n",
       "      <td>5</td>\n",
       "    </tr>\n",
       "    <tr>\n",
       "      <th>536</th>\n",
       "      <td>gimg1859</td>\n",
       "      <td>unal2</td>\n",
       "      <td>IH-Project-2017-gimg1859_webapp_phase5</td>\n",
       "      <td>Wed Nov 22 08:30:40 2017</td>\n",
       "      <td>0</td>\n",
       "      <td>0</td>\n",
       "      <td>NaN</td>\n",
       "      <td>0</td>\n",
       "      <td>0</td>\n",
       "      <td>1</td>\n",
       "      <td>...</td>\n",
       "      <td>0.000000</td>\n",
       "      <td>0.0%</td>\n",
       "      <td>0</td>\n",
       "      <td>0.000000</td>\n",
       "      <td>0.0%</td>\n",
       "      <td>NaN</td>\n",
       "      <td>3</td>\n",
       "      <td>126.666667</td>\n",
       "      <td>0.0%</td>\n",
       "      <td>5</td>\n",
       "    </tr>\n",
       "    <tr>\n",
       "      <th>537</th>\n",
       "      <td>jannMorenoJ</td>\n",
       "      <td>unal2</td>\n",
       "      <td>IH-Project-2017-jannMorenoJ_webapp_phase5</td>\n",
       "      <td>Wed Nov 22 08:30:40 2017</td>\n",
       "      <td>0</td>\n",
       "      <td>0</td>\n",
       "      <td>NaN</td>\n",
       "      <td>0</td>\n",
       "      <td>0</td>\n",
       "      <td>1</td>\n",
       "      <td>...</td>\n",
       "      <td>0.000000</td>\n",
       "      <td>0.0%</td>\n",
       "      <td>0</td>\n",
       "      <td>0.000000</td>\n",
       "      <td>0.0%</td>\n",
       "      <td>NaN</td>\n",
       "      <td>3</td>\n",
       "      <td>126.666667</td>\n",
       "      <td>0.0%</td>\n",
       "      <td>5</td>\n",
       "    </tr>\n",
       "    <tr>\n",
       "      <th>538</th>\n",
       "      <td>dahrojasca</td>\n",
       "      <td>unal2</td>\n",
       "      <td>IH-Project-2017-dahrojasca_webapp_phase5</td>\n",
       "      <td>Wed Nov 22 08:30:40 2017</td>\n",
       "      <td>0</td>\n",
       "      <td>0</td>\n",
       "      <td>NaN</td>\n",
       "      <td>1</td>\n",
       "      <td>1</td>\n",
       "      <td>1</td>\n",
       "      <td>...</td>\n",
       "      <td>13.043478</td>\n",
       "      <td>59.26%</td>\n",
       "      <td>0</td>\n",
       "      <td>0.000000</td>\n",
       "      <td>0.0%</td>\n",
       "      <td>NaN</td>\n",
       "      <td>8</td>\n",
       "      <td>172.417232</td>\n",
       "      <td>48.15%</td>\n",
       "      <td>5</td>\n",
       "    </tr>\n",
       "    <tr>\n",
       "      <th>539</th>\n",
       "      <td>FredyRosero</td>\n",
       "      <td>unal2</td>\n",
       "      <td>IH-Project-2017-FredyRosero_webapp_phase5</td>\n",
       "      <td>Wed Nov 22 08:30:40 2017</td>\n",
       "      <td>1</td>\n",
       "      <td>1</td>\n",
       "      <td>Required Weather API,</td>\n",
       "      <td>1</td>\n",
       "      <td>1</td>\n",
       "      <td>1</td>\n",
       "      <td>...</td>\n",
       "      <td>30.434783</td>\n",
       "      <td>77.78%</td>\n",
       "      <td>3</td>\n",
       "      <td>0.666667</td>\n",
       "      <td>59.26%</td>\n",
       "      <td>3.0,0.0,0.0,;</td>\n",
       "      <td>17</td>\n",
       "      <td>231.171268</td>\n",
       "      <td>74.07%</td>\n",
       "      <td>5</td>\n",
       "    </tr>\n",
       "  </tbody>\n",
       "</table>\n",
       "<p>540 rows × 41 columns</p>\n",
       "</div>"
      ],
      "text/plain": [
       "            username  hack id                                      repo name  \\\n",
       "0          mdecloedt  honors0        IH-Project-2017-mdecloedt_webapp_phase1   \n",
       "1      Jordan-Loeser  honors0    IH-Project-2017-Jordan-Loeser_webapp_phase1   \n",
       "2    LukasMMarinovic  honors0  IH-Project-2017-LukasMMarinovic_webapp_phase1   \n",
       "3        whipplem123  honors0      IH-Project-2017-whipplem123_webapp_phase1   \n",
       "4             SionHu  honors0           IH-Project-2017-SionHu_webapp_phase1   \n",
       "..               ...      ...                                            ...   \n",
       "535     RafaelCruz15    unal2     IH-Project-2017-RafaelCruz15_webapp_phase5   \n",
       "536         gimg1859    unal2         IH-Project-2017-gimg1859_webapp_phase5   \n",
       "537      jannMorenoJ    unal2      IH-Project-2017-jannMorenoJ_webapp_phase5   \n",
       "538       dahrojasca    unal2       IH-Project-2017-dahrojasca_webapp_phase5   \n",
       "539      FredyRosero    unal2      IH-Project-2017-FredyRosero_webapp_phase5   \n",
       "\n",
       "                         time  climate dataset  extra dataset used  \\\n",
       "0    Sun Nov  5 20:39:31 2017                0                   0   \n",
       "1    Sun Nov  5 20:39:31 2017                0                   0   \n",
       "2    Sun Nov  5 20:39:31 2017                0                   0   \n",
       "3    Sun Nov  5 20:39:31 2017                0                   0   \n",
       "4    Sun Nov  5 20:39:31 2017                0                   0   \n",
       "..                        ...              ...                 ...   \n",
       "535  Wed Nov 22 08:30:40 2017                0                   0   \n",
       "536  Wed Nov 22 08:30:40 2017                0                   0   \n",
       "537  Wed Nov 22 08:30:40 2017                0                   0   \n",
       "538  Wed Nov 22 08:30:40 2017                0                   0   \n",
       "539  Wed Nov 22 08:30:40 2017                1                   1   \n",
       "\n",
       "         extra dataset list  google api  location  using JS  ...  \\\n",
       "0                       NaN           0         0         1  ...   \n",
       "1                       NaN           1         1         1  ...   \n",
       "2                       NaN           0         0         1  ...   \n",
       "3                       NaN           0         0         1  ...   \n",
       "4                       NaN           1         0         1  ...   \n",
       "..                      ...         ...       ...       ...  ...   \n",
       "535                     NaN           0         0         1  ...   \n",
       "536                     NaN           0         0         1  ...   \n",
       "537                     NaN           0         0         1  ...   \n",
       "538                     NaN           1         1         1  ...   \n",
       "539  Required Weather API,            1         1         1  ...   \n",
       "\n",
       "     combined_infovis_norm  combined_infovis_per  novelty  novelty_normal  \\\n",
       "0                13.043478                70.37%        0        0.000000   \n",
       "1                13.043478                70.37%        0        0.000000   \n",
       "2                 8.695652                40.74%        0        0.000000   \n",
       "3                 4.347826                22.22%        0        0.000000   \n",
       "4                 0.000000                  0.0%        0        0.000000   \n",
       "..                     ...                   ...      ...             ...   \n",
       "535               0.000000                  0.0%        0        0.000000   \n",
       "536               0.000000                  0.0%        0        0.000000   \n",
       "537               0.000000                  0.0%        0        0.000000   \n",
       "538              13.043478                59.26%        0        0.000000   \n",
       "539              30.434783                77.78%        3        0.666667   \n",
       "\n",
       "     novelty_per novelty_detail  total_raw  total_norm  total_norm_per  phase  \n",
       "0           0.0%            NaN          9  179.420290          59.26%      1  \n",
       "1           0.0%            NaN         10  194.392041          85.19%      1  \n",
       "2           0.0%            NaN          8  175.584075          55.56%      1  \n",
       "3           0.0%            NaN          6  158.695652          37.04%      1  \n",
       "4           0.0%            NaN          6  158.550725          33.33%      1  \n",
       "..           ...            ...        ...         ...             ...    ...  \n",
       "535         0.0%            NaN          3  126.666667            0.0%      5  \n",
       "536         0.0%            NaN          3  126.666667            0.0%      5  \n",
       "537         0.0%            NaN          3  126.666667            0.0%      5  \n",
       "538         0.0%            NaN          8  172.417232          48.15%      5  \n",
       "539       59.26%  3.0,0.0,0.0,;         17  231.171268          74.07%      5  \n",
       "\n",
       "[540 rows x 41 columns]"
      ]
     },
     "execution_count": 2,
     "metadata": {},
     "output_type": "execute_result"
    }
   ],
   "source": [
    "# concat data from all 5 phases\n",
    "\n",
    "df = pd.concat([data1, data2, data3, data4, data5], ignore_index=True)\n",
    "df"
   ]
  },
  {
   "cell_type": "code",
   "execution_count": 3,
   "id": "460daa7f",
   "metadata": {},
   "outputs": [
    {
     "data": {
      "text/html": [
       "<div>\n",
       "<style scoped>\n",
       "    .dataframe tbody tr th:only-of-type {\n",
       "        vertical-align: middle;\n",
       "    }\n",
       "\n",
       "    .dataframe tbody tr th {\n",
       "        vertical-align: top;\n",
       "    }\n",
       "\n",
       "    .dataframe thead th {\n",
       "        text-align: right;\n",
       "    }\n",
       "</style>\n",
       "<table border=\"1\" class=\"dataframe\">\n",
       "  <thead>\n",
       "    <tr style=\"text-align: right;\">\n",
       "      <th></th>\n",
       "      <th>username</th>\n",
       "      <th>hack id</th>\n",
       "      <th>repo name</th>\n",
       "      <th>time</th>\n",
       "      <th>climate dataset</th>\n",
       "      <th>extra dataset used</th>\n",
       "      <th>extra dataset list</th>\n",
       "      <th>google api</th>\n",
       "      <th>location</th>\n",
       "      <th>using JS</th>\n",
       "      <th>...</th>\n",
       "      <th>combined_infovis_norm</th>\n",
       "      <th>combined_infovis_per</th>\n",
       "      <th>novelty</th>\n",
       "      <th>novelty_normal</th>\n",
       "      <th>novelty_per</th>\n",
       "      <th>novelty_detail</th>\n",
       "      <th>total_raw</th>\n",
       "      <th>total_norm</th>\n",
       "      <th>total_norm_per</th>\n",
       "      <th>phase</th>\n",
       "    </tr>\n",
       "  </thead>\n",
       "  <tbody>\n",
       "    <tr>\n",
       "      <th>0</th>\n",
       "      <td>mdecloedt</td>\n",
       "      <td>honors0</td>\n",
       "      <td>IH-Project-2017-mdecloedt_webapp_phase1</td>\n",
       "      <td>Sun Nov  5 20:39:31 2017</td>\n",
       "      <td>0</td>\n",
       "      <td>0</td>\n",
       "      <td>[]</td>\n",
       "      <td>0</td>\n",
       "      <td>0</td>\n",
       "      <td>1</td>\n",
       "      <td>...</td>\n",
       "      <td>13.043478</td>\n",
       "      <td>70.37%</td>\n",
       "      <td>0</td>\n",
       "      <td>0.000000</td>\n",
       "      <td>0.0%</td>\n",
       "      <td>NaN</td>\n",
       "      <td>9</td>\n",
       "      <td>179.420290</td>\n",
       "      <td>59.26%</td>\n",
       "      <td>1</td>\n",
       "    </tr>\n",
       "    <tr>\n",
       "      <th>1</th>\n",
       "      <td>Jordan-Loeser</td>\n",
       "      <td>honors0</td>\n",
       "      <td>IH-Project-2017-Jordan-Loeser_webapp_phase1</td>\n",
       "      <td>Sun Nov  5 20:39:31 2017</td>\n",
       "      <td>0</td>\n",
       "      <td>0</td>\n",
       "      <td>[]</td>\n",
       "      <td>1</td>\n",
       "      <td>1</td>\n",
       "      <td>1</td>\n",
       "      <td>...</td>\n",
       "      <td>13.043478</td>\n",
       "      <td>70.37%</td>\n",
       "      <td>0</td>\n",
       "      <td>0.000000</td>\n",
       "      <td>0.0%</td>\n",
       "      <td>NaN</td>\n",
       "      <td>10</td>\n",
       "      <td>194.392041</td>\n",
       "      <td>85.19%</td>\n",
       "      <td>1</td>\n",
       "    </tr>\n",
       "    <tr>\n",
       "      <th>2</th>\n",
       "      <td>LukasMMarinovic</td>\n",
       "      <td>honors0</td>\n",
       "      <td>IH-Project-2017-LukasMMarinovic_webapp_phase1</td>\n",
       "      <td>Sun Nov  5 20:39:31 2017</td>\n",
       "      <td>0</td>\n",
       "      <td>0</td>\n",
       "      <td>[]</td>\n",
       "      <td>0</td>\n",
       "      <td>0</td>\n",
       "      <td>1</td>\n",
       "      <td>...</td>\n",
       "      <td>8.695652</td>\n",
       "      <td>40.74%</td>\n",
       "      <td>0</td>\n",
       "      <td>0.000000</td>\n",
       "      <td>0.0%</td>\n",
       "      <td>NaN</td>\n",
       "      <td>8</td>\n",
       "      <td>175.584075</td>\n",
       "      <td>55.56%</td>\n",
       "      <td>1</td>\n",
       "    </tr>\n",
       "    <tr>\n",
       "      <th>3</th>\n",
       "      <td>whipplem123</td>\n",
       "      <td>honors0</td>\n",
       "      <td>IH-Project-2017-whipplem123_webapp_phase1</td>\n",
       "      <td>Sun Nov  5 20:39:31 2017</td>\n",
       "      <td>0</td>\n",
       "      <td>0</td>\n",
       "      <td>[]</td>\n",
       "      <td>0</td>\n",
       "      <td>0</td>\n",
       "      <td>1</td>\n",
       "      <td>...</td>\n",
       "      <td>4.347826</td>\n",
       "      <td>22.22%</td>\n",
       "      <td>0</td>\n",
       "      <td>0.000000</td>\n",
       "      <td>0.0%</td>\n",
       "      <td>NaN</td>\n",
       "      <td>6</td>\n",
       "      <td>158.695652</td>\n",
       "      <td>37.04%</td>\n",
       "      <td>1</td>\n",
       "    </tr>\n",
       "    <tr>\n",
       "      <th>4</th>\n",
       "      <td>SionHu</td>\n",
       "      <td>honors0</td>\n",
       "      <td>IH-Project-2017-SionHu_webapp_phase1</td>\n",
       "      <td>Sun Nov  5 20:39:31 2017</td>\n",
       "      <td>0</td>\n",
       "      <td>0</td>\n",
       "      <td>[]</td>\n",
       "      <td>1</td>\n",
       "      <td>0</td>\n",
       "      <td>1</td>\n",
       "      <td>...</td>\n",
       "      <td>0.000000</td>\n",
       "      <td>0.0%</td>\n",
       "      <td>0</td>\n",
       "      <td>0.000000</td>\n",
       "      <td>0.0%</td>\n",
       "      <td>NaN</td>\n",
       "      <td>6</td>\n",
       "      <td>158.550725</td>\n",
       "      <td>33.33%</td>\n",
       "      <td>1</td>\n",
       "    </tr>\n",
       "    <tr>\n",
       "      <th>...</th>\n",
       "      <td>...</td>\n",
       "      <td>...</td>\n",
       "      <td>...</td>\n",
       "      <td>...</td>\n",
       "      <td>...</td>\n",
       "      <td>...</td>\n",
       "      <td>...</td>\n",
       "      <td>...</td>\n",
       "      <td>...</td>\n",
       "      <td>...</td>\n",
       "      <td>...</td>\n",
       "      <td>...</td>\n",
       "      <td>...</td>\n",
       "      <td>...</td>\n",
       "      <td>...</td>\n",
       "      <td>...</td>\n",
       "      <td>...</td>\n",
       "      <td>...</td>\n",
       "      <td>...</td>\n",
       "      <td>...</td>\n",
       "      <td>...</td>\n",
       "    </tr>\n",
       "    <tr>\n",
       "      <th>535</th>\n",
       "      <td>RafaelCruz15</td>\n",
       "      <td>unal2</td>\n",
       "      <td>IH-Project-2017-RafaelCruz15_webapp_phase5</td>\n",
       "      <td>Wed Nov 22 08:30:40 2017</td>\n",
       "      <td>0</td>\n",
       "      <td>0</td>\n",
       "      <td>[]</td>\n",
       "      <td>0</td>\n",
       "      <td>0</td>\n",
       "      <td>1</td>\n",
       "      <td>...</td>\n",
       "      <td>0.000000</td>\n",
       "      <td>0.0%</td>\n",
       "      <td>0</td>\n",
       "      <td>0.000000</td>\n",
       "      <td>0.0%</td>\n",
       "      <td>NaN</td>\n",
       "      <td>3</td>\n",
       "      <td>126.666667</td>\n",
       "      <td>0.0%</td>\n",
       "      <td>5</td>\n",
       "    </tr>\n",
       "    <tr>\n",
       "      <th>536</th>\n",
       "      <td>gimg1859</td>\n",
       "      <td>unal2</td>\n",
       "      <td>IH-Project-2017-gimg1859_webapp_phase5</td>\n",
       "      <td>Wed Nov 22 08:30:40 2017</td>\n",
       "      <td>0</td>\n",
       "      <td>0</td>\n",
       "      <td>[]</td>\n",
       "      <td>0</td>\n",
       "      <td>0</td>\n",
       "      <td>1</td>\n",
       "      <td>...</td>\n",
       "      <td>0.000000</td>\n",
       "      <td>0.0%</td>\n",
       "      <td>0</td>\n",
       "      <td>0.000000</td>\n",
       "      <td>0.0%</td>\n",
       "      <td>NaN</td>\n",
       "      <td>3</td>\n",
       "      <td>126.666667</td>\n",
       "      <td>0.0%</td>\n",
       "      <td>5</td>\n",
       "    </tr>\n",
       "    <tr>\n",
       "      <th>537</th>\n",
       "      <td>jannMorenoJ</td>\n",
       "      <td>unal2</td>\n",
       "      <td>IH-Project-2017-jannMorenoJ_webapp_phase5</td>\n",
       "      <td>Wed Nov 22 08:30:40 2017</td>\n",
       "      <td>0</td>\n",
       "      <td>0</td>\n",
       "      <td>[]</td>\n",
       "      <td>0</td>\n",
       "      <td>0</td>\n",
       "      <td>1</td>\n",
       "      <td>...</td>\n",
       "      <td>0.000000</td>\n",
       "      <td>0.0%</td>\n",
       "      <td>0</td>\n",
       "      <td>0.000000</td>\n",
       "      <td>0.0%</td>\n",
       "      <td>NaN</td>\n",
       "      <td>3</td>\n",
       "      <td>126.666667</td>\n",
       "      <td>0.0%</td>\n",
       "      <td>5</td>\n",
       "    </tr>\n",
       "    <tr>\n",
       "      <th>538</th>\n",
       "      <td>dahrojasca</td>\n",
       "      <td>unal2</td>\n",
       "      <td>IH-Project-2017-dahrojasca_webapp_phase5</td>\n",
       "      <td>Wed Nov 22 08:30:40 2017</td>\n",
       "      <td>0</td>\n",
       "      <td>0</td>\n",
       "      <td>[]</td>\n",
       "      <td>1</td>\n",
       "      <td>1</td>\n",
       "      <td>1</td>\n",
       "      <td>...</td>\n",
       "      <td>13.043478</td>\n",
       "      <td>59.26%</td>\n",
       "      <td>0</td>\n",
       "      <td>0.000000</td>\n",
       "      <td>0.0%</td>\n",
       "      <td>NaN</td>\n",
       "      <td>8</td>\n",
       "      <td>172.417232</td>\n",
       "      <td>48.15%</td>\n",
       "      <td>5</td>\n",
       "    </tr>\n",
       "    <tr>\n",
       "      <th>539</th>\n",
       "      <td>FredyRosero</td>\n",
       "      <td>unal2</td>\n",
       "      <td>IH-Project-2017-FredyRosero_webapp_phase5</td>\n",
       "      <td>Wed Nov 22 08:30:40 2017</td>\n",
       "      <td>1</td>\n",
       "      <td>1</td>\n",
       "      <td>Required Weather API,</td>\n",
       "      <td>1</td>\n",
       "      <td>1</td>\n",
       "      <td>1</td>\n",
       "      <td>...</td>\n",
       "      <td>30.434783</td>\n",
       "      <td>77.78%</td>\n",
       "      <td>3</td>\n",
       "      <td>0.666667</td>\n",
       "      <td>59.26%</td>\n",
       "      <td>3.0,0.0,0.0,;</td>\n",
       "      <td>17</td>\n",
       "      <td>231.171268</td>\n",
       "      <td>74.07%</td>\n",
       "      <td>5</td>\n",
       "    </tr>\n",
       "  </tbody>\n",
       "</table>\n",
       "<p>540 rows × 41 columns</p>\n",
       "</div>"
      ],
      "text/plain": [
       "            username  hack id                                      repo name  \\\n",
       "0          mdecloedt  honors0        IH-Project-2017-mdecloedt_webapp_phase1   \n",
       "1      Jordan-Loeser  honors0    IH-Project-2017-Jordan-Loeser_webapp_phase1   \n",
       "2    LukasMMarinovic  honors0  IH-Project-2017-LukasMMarinovic_webapp_phase1   \n",
       "3        whipplem123  honors0      IH-Project-2017-whipplem123_webapp_phase1   \n",
       "4             SionHu  honors0           IH-Project-2017-SionHu_webapp_phase1   \n",
       "..               ...      ...                                            ...   \n",
       "535     RafaelCruz15    unal2     IH-Project-2017-RafaelCruz15_webapp_phase5   \n",
       "536         gimg1859    unal2         IH-Project-2017-gimg1859_webapp_phase5   \n",
       "537      jannMorenoJ    unal2      IH-Project-2017-jannMorenoJ_webapp_phase5   \n",
       "538       dahrojasca    unal2       IH-Project-2017-dahrojasca_webapp_phase5   \n",
       "539      FredyRosero    unal2      IH-Project-2017-FredyRosero_webapp_phase5   \n",
       "\n",
       "                         time  climate dataset  extra dataset used  \\\n",
       "0    Sun Nov  5 20:39:31 2017                0                   0   \n",
       "1    Sun Nov  5 20:39:31 2017                0                   0   \n",
       "2    Sun Nov  5 20:39:31 2017                0                   0   \n",
       "3    Sun Nov  5 20:39:31 2017                0                   0   \n",
       "4    Sun Nov  5 20:39:31 2017                0                   0   \n",
       "..                        ...              ...                 ...   \n",
       "535  Wed Nov 22 08:30:40 2017                0                   0   \n",
       "536  Wed Nov 22 08:30:40 2017                0                   0   \n",
       "537  Wed Nov 22 08:30:40 2017                0                   0   \n",
       "538  Wed Nov 22 08:30:40 2017                0                   0   \n",
       "539  Wed Nov 22 08:30:40 2017                1                   1   \n",
       "\n",
       "         extra dataset list  google api  location  using JS  ...  \\\n",
       "0                        []           0         0         1  ...   \n",
       "1                        []           1         1         1  ...   \n",
       "2                        []           0         0         1  ...   \n",
       "3                        []           0         0         1  ...   \n",
       "4                        []           1         0         1  ...   \n",
       "..                      ...         ...       ...       ...  ...   \n",
       "535                      []           0         0         1  ...   \n",
       "536                      []           0         0         1  ...   \n",
       "537                      []           0         0         1  ...   \n",
       "538                      []           1         1         1  ...   \n",
       "539  Required Weather API,            1         1         1  ...   \n",
       "\n",
       "     combined_infovis_norm  combined_infovis_per  novelty  novelty_normal  \\\n",
       "0                13.043478                70.37%        0        0.000000   \n",
       "1                13.043478                70.37%        0        0.000000   \n",
       "2                 8.695652                40.74%        0        0.000000   \n",
       "3                 4.347826                22.22%        0        0.000000   \n",
       "4                 0.000000                  0.0%        0        0.000000   \n",
       "..                     ...                   ...      ...             ...   \n",
       "535               0.000000                  0.0%        0        0.000000   \n",
       "536               0.000000                  0.0%        0        0.000000   \n",
       "537               0.000000                  0.0%        0        0.000000   \n",
       "538              13.043478                59.26%        0        0.000000   \n",
       "539              30.434783                77.78%        3        0.666667   \n",
       "\n",
       "     novelty_per novelty_detail  total_raw  total_norm  total_norm_per  phase  \n",
       "0           0.0%            NaN          9  179.420290          59.26%      1  \n",
       "1           0.0%            NaN         10  194.392041          85.19%      1  \n",
       "2           0.0%            NaN          8  175.584075          55.56%      1  \n",
       "3           0.0%            NaN          6  158.695652          37.04%      1  \n",
       "4           0.0%            NaN          6  158.550725          33.33%      1  \n",
       "..           ...            ...        ...         ...             ...    ...  \n",
       "535         0.0%            NaN          3  126.666667            0.0%      5  \n",
       "536         0.0%            NaN          3  126.666667            0.0%      5  \n",
       "537         0.0%            NaN          3  126.666667            0.0%      5  \n",
       "538         0.0%            NaN          8  172.417232          48.15%      5  \n",
       "539       59.26%  3.0,0.0,0.0,;         17  231.171268          74.07%      5  \n",
       "\n",
       "[540 rows x 41 columns]"
      ]
     },
     "execution_count": 3,
     "metadata": {},
     "output_type": "execute_result"
    }
   ],
   "source": [
    "# replace null with empty arrays\n",
    "df.loc[df['extra dataset list'].isnull(),['extra dataset list']] = df.loc[df['extra dataset list'].isnull(),'extra dataset list'].apply(lambda x: [])\n",
    "df"
   ]
  },
  {
   "cell_type": "code",
   "execution_count": 4,
   "id": "bcd32689",
   "metadata": {},
   "outputs": [],
   "source": [
    "# get raw data distance of search\n",
    "import itertools\n",
    "def jaccard_similarity(x, y):\n",
    "    \"\"\" returns the jaccard similarity between two lists \"\"\"\n",
    "    intersection_cardinality = len(set.intersection(*[set(x), set(y)]))\n",
    "    union_cardinality = len(set.union(*[set(x), set(y)]))\n",
    "    if union_cardinality == 0:\n",
    "        return 1\n",
    "    return intersection_cardinality/float(union_cardinality)\n",
    "\n",
    "wordings_users = list(zip(df[\"extra dataset list\"], df[\"username\"], df[\"phase\"]))\n",
    "\n",
    "result = []\n",
    "\n",
    "# create list of all possible combinations between sets of (wording, user) and loop through them\n",
    "for item in list(itertools.combinations(wordings_users, 2)):\n",
    "    similarity = jaccard_similarity(item[0][0], item[1][0])\n",
    "    data = {\"user1\": item[0][1], \"user2\": item[1][1], \"user1_phase\": item[0][2], \"user2_phase\": item[1][2], \"similarity\": similarity}\n",
    "    result.append(data)\n",
    "\n",
    "final = pd.DataFrame(result)\n",
    "final['temp'] = abs(final['user1_phase'] - final['user2_phase'])\n",
    "final = final[final['temp'] == 1]\n",
    "final = final[final['user1'] == final['user2']]\n",
    "final['stage'] = final['user1_phase']\n",
    "final['dist_search'] = 1 - final['similarity']\n",
    "final['type'] = 'data'\n",
    "final.to_csv(\"processed_data/raw_data.csv\")"
   ]
  },
  {
   "cell_type": "code",
   "execution_count": 5,
   "id": "ee5e2676",
   "metadata": {},
   "outputs": [
    {
     "name": "stdout",
     "output_type": "stream",
     "text": [
      "451\n"
     ]
    },
    {
     "data": {
      "text/plain": [
       "[('Required Weather API', 100),\n",
       " ('New York City Museums', 70),\n",
       " ('New York City Art Galleries', 48),\n",
       " ('Zillow Home Value Searching API', 38),\n",
       " ('Housing New York Units by Building', 25),\n",
       " ('Fire Department Directory for New York State', 24),\n",
       " ('New York State Career Centers', 18),\n",
       " ('New York City Locations Providing Seasonal Flu Vaccinations', 17),\n",
       " ('NYCHA Development Data Book', 13),\n",
       " ('School Safety Report', 12),\n",
       " ('Air Quality', 9),\n",
       " ('Bicycle Routes Across New York State: Map', 9),\n",
       " ('Bank-Owned ATM Locations in New York State', 8),\n",
       " ('New York City Farmers Markets', 8),\n",
       " ('Neighborhood Tabulation Areas', 6),\n",
       " ('New York neighborhood', 6),\n",
       " ('New York Safety', 5),\n",
       " ('Directory Of DCP Offices', 4),\n",
       " ('new york address points', 4),\n",
       " ('Total Housing Units By Occupancy Status And Tenure By Borough', 3),\n",
       " ('Local Area Unemployment Statistics (LAUS) Seasonally Adjusted Data: Beginning 1976',\n",
       "  3),\n",
       " ('New York City Leading Causes of Death', 3),\n",
       " ('Alternative Fuel Stations in New York', 3),\n",
       " ('Neighborhood Names GIS', 2),\n",
       " ('New York museum', 2),\n",
       " ('Open.ny.gov API Catalog', 2),\n",
       " ('NYC City Hall Library Catalog', 2),\n",
       " ('New York City Population By Boroughs', 2),\n",
       " ('DOHMH New York City Restaurant Inspection Results', 1),\n",
       " ('New York City Population By Community Districts', 1),\n",
       " ('Facilities Licensed by the Department of Motor Vehicles (DMV)', 1),\n",
       " ('Boardwalk', 1),\n",
       " ('', 1)]"
      ]
     },
     "execution_count": 5,
     "metadata": {},
     "output_type": "execute_result"
    }
   ],
   "source": [
    "from collections import Counter\n",
    "df = df[df['extra dataset list'].map(lambda d: len(d)) > 0]\n",
    "listed = df['extra dataset list'].values.tolist()\n",
    "x = ''.join(listed)\n",
    "x = x.split(\", \")\n",
    "print(len(x))\n",
    "countered = Counter(x)\n",
    "y = countered.most_common()\n",
    "y"
   ]
  },
  {
   "cell_type": "code",
   "execution_count": 6,
   "id": "ddb38e08",
   "metadata": {},
   "outputs": [
    {
     "data": {
      "text/plain": [
       "Counter({'Required Weather API': 100,\n",
       "         'Bank-Owned ATM Locations in New York State': 8,\n",
       "         'Fire Department Directory for New York State': 24,\n",
       "         'New York State Career Centers': 18,\n",
       "         'Zillow Home Value Searching API': 38,\n",
       "         'Neighborhood Names GIS': 2,\n",
       "         'Air Quality': 9,\n",
       "         'New York City Museums': 70,\n",
       "         'New York City Farmers Markets': 8,\n",
       "         'School Safety Report': 12,\n",
       "         'New York City Art Galleries': 48,\n",
       "         'Directory Of DCP Offices': 4,\n",
       "         'New York City Locations Providing Seasonal Flu Vaccinations': 17,\n",
       "         'Bicycle Routes Across New York State: Map': 9,\n",
       "         'Housing New York Units by Building': 25,\n",
       "         'Total Housing Units By Occupancy Status And Tenure By Borough': 3,\n",
       "         'DOHMH New York City Restaurant Inspection Results': 1,\n",
       "         'Neighborhood Tabulation Areas': 6,\n",
       "         'Local Area Unemployment Statistics (LAUS) Seasonally Adjusted Data: Beginning 1976': 3,\n",
       "         'New York City Leading Causes of Death': 3,\n",
       "         'New York City Population By Community Districts': 1,\n",
       "         'Facilities Licensed by the Department of Motor Vehicles (DMV)': 1,\n",
       "         'Boardwalk': 1,\n",
       "         'new york address points': 4,\n",
       "         'New York neighborhood': 6,\n",
       "         'New York museum': 2,\n",
       "         'New York Safety': 5,\n",
       "         'Alternative Fuel Stations in New York': 3,\n",
       "         'Open.ny.gov API Catalog': 2,\n",
       "         'NYCHA Development Data Book': 13,\n",
       "         'NYC City Hall Library Catalog': 2,\n",
       "         'New York City Population By Boroughs': 2,\n",
       "         '': 1})"
      ]
     },
     "execution_count": 6,
     "metadata": {},
     "output_type": "execute_result"
    }
   ],
   "source": [
    "countered"
   ]
  },
  {
   "cell_type": "code",
   "execution_count": 7,
   "id": "c2aec106",
   "metadata": {},
   "outputs": [
    {
     "data": {
      "text/plain": [
       "451"
      ]
     },
     "execution_count": 7,
     "metadata": {},
     "output_type": "execute_result"
    }
   ],
   "source": [
    "sum(countered.values())"
   ]
  },
  {
   "cell_type": "markdown",
   "id": "be121493",
   "metadata": {},
   "source": [
    "## Data Used Besides Minimal Criteria Data"
   ]
  },
  {
   "cell_type": "code",
   "execution_count": 8,
   "id": "98b8544e",
   "metadata": {},
   "outputs": [
    {
     "data": {
      "text/plain": [
       "[('Required Weather API', 100)]"
      ]
     },
     "execution_count": 8,
     "metadata": {},
     "output_type": "execute_result"
    }
   ],
   "source": [
    "res = [item for item in y if item[1]>90]\n",
    "res"
   ]
  },
  {
   "cell_type": "code",
   "execution_count": 9,
   "id": "79abbddc",
   "metadata": {},
   "outputs": [
    {
     "data": {
      "text/plain": [
       "[('Required Weather API', 100),\n",
       " ('New York City Museums', 70),\n",
       " ('New York City Art Galleries', 48),\n",
       " ('Zillow Home Value Searching API', 38),\n",
       " ('Housing New York Units by Building', 25),\n",
       " ('Fire Department Directory for New York State', 24)]"
      ]
     },
     "execution_count": 9,
     "metadata": {},
     "output_type": "execute_result"
    }
   ],
   "source": [
    "res_20 = [item for item in y if item[1]>20]\n",
    "res_20"
   ]
  },
  {
   "cell_type": "code",
   "execution_count": 10,
   "id": "3ddee995",
   "metadata": {},
   "outputs": [],
   "source": [
    "match = [key for key, _ in res]\n",
    "match_20 = [key for key, _ in res_20]"
   ]
  },
  {
   "cell_type": "code",
   "execution_count": 11,
   "id": "9164cece",
   "metadata": {},
   "outputs": [
    {
     "name": "stderr",
     "output_type": "stream",
     "text": [
      "<ipython-input-11-ae7ecb8a9977>:1: SettingWithCopyWarning: \n",
      "A value is trying to be set on a copy of a slice from a DataFrame.\n",
      "Try using .loc[row_indexer,col_indexer] = value instead\n",
      "\n",
      "See the caveats in the documentation: https://pandas.pydata.org/pandas-docs/stable/user_guide/indexing.html#returning-a-view-versus-a-copy\n",
      "  df['extra dataset list'] = df['extra dataset list'].str.split(',').str[:-1]\n"
     ]
    },
    {
     "data": {
      "text/plain": [
       "5                                 [Required Weather API]\n",
       "20                                [Required Weather API]\n",
       "24                                [Required Weather API]\n",
       "27                                [Required Weather API]\n",
       "61          [Bank-Owned ATM Locations in New York State]\n",
       "                             ...                        \n",
       "528    [New York City Locations Providing Seasonal Fl...\n",
       "531    [New York City Art Galleries,  New York City P...\n",
       "532     [Required Weather API,  new york address points]\n",
       "534    [New York City Art Galleries,  new york addres...\n",
       "539                               [Required Weather API]\n",
       "Name: extra dataset list, Length: 173, dtype: object"
      ]
     },
     "execution_count": 11,
     "metadata": {},
     "output_type": "execute_result"
    }
   ],
   "source": [
    "df['extra dataset list'] = df['extra dataset list'].str.split(',').str[:-1]\n",
    "df['extra dataset list']"
   ]
  },
  {
   "cell_type": "code",
   "execution_count": 12,
   "id": "388796fc",
   "metadata": {},
   "outputs": [
    {
     "name": "stderr",
     "output_type": "stream",
     "text": [
      "<ipython-input-12-002b71e50531>:9: SettingWithCopyWarning: \n",
      "A value is trying to be set on a copy of a slice from a DataFrame.\n",
      "Try using .loc[row_indexer,col_indexer] = value instead\n",
      "\n",
      "See the caveats in the documentation: https://pandas.pydata.org/pandas-docs/stable/user_guide/indexing.html#returning-a-view-versus-a-copy\n",
      "  df['except-min-criteria'] = df['extra dataset list'].apply(lambda x: in_fruits(x, match))\n",
      "<ipython-input-12-002b71e50531>:10: SettingWithCopyWarning: \n",
      "A value is trying to be set on a copy of a slice from a DataFrame.\n",
      "Try using .loc[row_indexer,col_indexer] = value instead\n",
      "\n",
      "See the caveats in the documentation: https://pandas.pydata.org/pandas-docs/stable/user_guide/indexing.html#returning-a-view-versus-a-copy\n",
      "  df['novel-20'] = df['extra dataset list'].apply(lambda x: in_fruits(x, match_20))\n"
     ]
    }
   ],
   "source": [
    "def in_fruits(row, lst):\n",
    "    ret_lst = []\n",
    "    for f in row:\n",
    "        if f not in lst:\n",
    "            ret_lst.append(f)\n",
    "        #print(ret_lst)\n",
    "    return ret_lst\n",
    "\n",
    "df['except-min-criteria'] = df['extra dataset list'].apply(lambda x: in_fruits(x, match))\n",
    "df['novel-20'] = df['extra dataset list'].apply(lambda x: in_fruits(x, match_20))"
   ]
  },
  {
   "cell_type": "code",
   "execution_count": 13,
   "id": "451b4223",
   "metadata": {},
   "outputs": [
    {
     "data": {
      "text/plain": [
       "5                                                     []\n",
       "20                                                    []\n",
       "24                                                    []\n",
       "27                                                    []\n",
       "61          [Bank-Owned ATM Locations in New York State]\n",
       "102    [Fire Department Directory for New York State,...\n",
       "108                   [ Zillow Home Value Searching API]\n",
       "109    [Neighborhood Names GIS,  Required Weather API...\n",
       "113    [New York State Career Centers,  Fire Departme...\n",
       "117                                                   []\n",
       "121                                                   []\n",
       "123                                                   []\n",
       "128                                                   []\n",
       "130                                                   []\n",
       "132                   [ Zillow Home Value Searching API]\n",
       "135                    [Zillow Home Value Searching API]\n",
       "140                    [Zillow Home Value Searching API]\n",
       "143                    [Zillow Home Value Searching API]\n",
       "146                              [New York City Museums]\n",
       "151                                                   []\n",
       "157       [Fire Department Directory for New York State]\n",
       "166    [New York State Career Centers,  Required Weat...\n",
       "168    [New York City Museums,  Fire Department Direc...\n",
       "169    [ New York City Locations Providing Seasonal F...\n",
       "174                              [New York City Museums]\n",
       "179                    [Zillow Home Value Searching API]\n",
       "184    [Housing New York Units by Building,  Air Qual...\n",
       "192    [New York City Museums,  Fire Department Direc...\n",
       "201    [Total Housing Units By Occupancy Status And T...\n",
       "202    [ New York City Museums,  Fire Department Dire...\n",
       "204                              [New York City Museums]\n",
       "208                                                   []\n",
       "210    [New York State Career Centers,  Fire Departme...\n",
       "213                    [Zillow Home Value Searching API]\n",
       "216                   [ Zillow Home Value Searching API]\n",
       "217                   [ Zillow Home Value Searching API]\n",
       "218                                                   []\n",
       "221    [ New York State Career Centers,  New York Cit...\n",
       "225                                                   []\n",
       "227    [ New York City Farmers Markets,  New York Cit...\n",
       "228    [Neighborhood Tabulation Areas,  Housing New Y...\n",
       "229                                                   []\n",
       "230                                                   []\n",
       "231                                                   []\n",
       "233                   [ Zillow Home Value Searching API]\n",
       "236                                                   []\n",
       "238                                                   []\n",
       "240    [ Housing New York Units by Building,  Total H...\n",
       "242                                                   []\n",
       "243                    [Zillow Home Value Searching API]\n",
       "245                 [Housing New York Units by Building]\n",
       "249                 [Housing New York Units by Building]\n",
       "250    [ Bank-Owned ATM Locations in New York State, ...\n",
       "254    [Housing New York Units by Building,  New York...\n",
       "257    [New York City Locations Providing Seasonal Fl...\n",
       "265       [Fire Department Directory for New York State]\n",
       "270    [New York City Art Galleries,  New York City M...\n",
       "271                                                   []\n",
       "274    [ New York City Locations Providing Seasonal F...\n",
       "276    [ New York City Locations Providing Seasonal F...\n",
       "277    [ New York City Locations Providing Seasonal F...\n",
       "282    [New York City Art Galleries,  New York City M...\n",
       "286                             [ New York City Museums]\n",
       "287    [New York City Art Galleries,  Zillow Home Val...\n",
       "292    [ Neighborhood Tabulation Areas,  Air Quality,...\n",
       "296                              [New York City Museums]\n",
       "297                              [New York City Museums]\n",
       "300    [New York City Art Galleries,  School Safety R...\n",
       "308                    [Zillow Home Value Searching API]\n",
       "309    [Fire Department Directory for New York State,...\n",
       "310    [ New York City Art Galleries,  Fire Departmen...\n",
       "312    [Bicycle Routes Across New York State: Map,  N...\n",
       "317                             [ New York City Museums]\n",
       "318    [new york address points,  Fire Department Dir...\n",
       "324    [Zillow Home Value Searching API,  Required We...\n",
       "325    [Zillow Home Value Searching API,  Required We...\n",
       "326                                                   []\n",
       "327                    [Zillow Home Value Searching API]\n",
       "329    [Zillow Home Value Searching API,  Required We...\n",
       "331                                                   []\n",
       "333                             [ New York neighborhood]\n",
       "335    [ Zillow Home Value Searching API,  New York C...\n",
       "336    [Neighborhood Tabulation Areas,  Housing New Y...\n",
       "337                                                   []\n",
       "338                                                   []\n",
       "339    [Zillow Home Value Searching API,  Required We...\n",
       "341    [New York museum,  Alternative Fuel Stations i...\n",
       "344                                                   []\n",
       "345                            [Open.ny.gov API Catalog]\n",
       "346                                                   []\n",
       "348    [Housing New York Units by Building,  Total Ho...\n",
       "349    [ School Safety Report,  New York State Career...\n",
       "350                                                   []\n",
       "351    [Fire Department Directory for New York State,...\n",
       "353    [New York City Museums,  NYCHA Development Dat...\n",
       "359                 [Housing New York Units by Building]\n",
       "361                 [Housing New York Units by Building]\n",
       "362    [New York City Museums,  New York Safety,  Hou...\n",
       "365    [New York City Art Galleries,  New York City L...\n",
       "367    [Zillow Home Value Searching API,  Required We...\n",
       "373       [Fire Department Directory for New York State]\n",
       "378    [New York City Art Galleries,  New York City M...\n",
       "379                                                   []\n",
       "382    [ New York State Career Centers,  New York Cit...\n",
       "383       [Fire Department Directory for New York State]\n",
       "385    [Bicycle Routes Across New York State: Map,  R...\n",
       "390    [New York City Art Galleries,  New York City M...\n",
       "394       [New York City Museums,  Required Weather API]\n",
       "395    [New York City Museums,  New York City Art Gal...\n",
       "400    [Bank-Owned ATM Locations in New York State,  ...\n",
       "404    [New York City Art Galleries,  New York City L...\n",
       "405                              [New York City Museums]\n",
       "408    [New York City Art Galleries,  New York City M...\n",
       "416                    [Zillow Home Value Searching API]\n",
       "417    [Fire Department Directory for New York State,...\n",
       "418    [Fire Department Directory for New York State,...\n",
       "419    [New York City Art Galleries,  Zillow Home Val...\n",
       "420    [New York City Locations Providing Seasonal Fl...\n",
       "423    [New York City Art Galleries,  New York City M...\n",
       "426    [Fire Department Directory for New York State,...\n",
       "432                   [ Zillow Home Value Searching API]\n",
       "433                   [ Zillow Home Value Searching API]\n",
       "434                                                   []\n",
       "435                    [Zillow Home Value Searching API]\n",
       "437    [New York State Career Centers,  NYCHA Develop...\n",
       "439                                                   []\n",
       "440                                                   []\n",
       "441                             [ New York neighborhood]\n",
       "443    [ New York City Farmers Markets,  Zillow Home ...\n",
       "444    [Local Area Unemployment Statistics (LAUS) Sea...\n",
       "445                                                   []\n",
       "446                                                   []\n",
       "447                   [ Zillow Home Value Searching API]\n",
       "450                 [Housing New York Units by Building]\n",
       "452                                                   []\n",
       "453     [Open.ny.gov API Catalog,  Required Weather API]\n",
       "454                                                   []\n",
       "456    [ New York City Leading Causes of Death,  Zill...\n",
       "457    [Air Quality,  New York Safety,  New York Stat...\n",
       "458                                                   []\n",
       "459    [New York City Art Galleries,  Fire Department...\n",
       "461    [NYCHA Development Data Book,  NYC City Hall L...\n",
       "463    [New York City Museums,  Zillow Home Value Sea...\n",
       "465                                                   []\n",
       "467                                                   []\n",
       "469                 [Housing New York Units by Building]\n",
       "470    [ New York City Museums,  New York Safety,  Ho...\n",
       "473    [New York City Art Galleries,  New York City L...\n",
       "477                                                   []\n",
       "479                 [Housing New York Units by Building]\n",
       "481       [Fire Department Directory for New York State]\n",
       "484                 [Housing New York Units by Building]\n",
       "487                                                   []\n",
       "490    [New York City Art Galleries,  New York State ...\n",
       "491    [New York City Art Galleries,  Bicycle Routes ...\n",
       "493    [New York City Art Galleries,  Bicycle Routes ...\n",
       "495    [New York City Art Galleries,  New York City M...\n",
       "498    [New York City Art Galleries,  NYCHA Developme...\n",
       "502    [New York City Art Galleries,  New York City L...\n",
       "503    [New York City Art Galleries,  New York City M...\n",
       "505    [New York City Art Galleries,  New York City L...\n",
       "508    [New York City Art Galleries,  Air Quality,  N...\n",
       "513                              [New York City Museums]\n",
       "516    [New York City Art Galleries,  Required Weathe...\n",
       "524    [New York City Art Galleries,  Bicycle Routes ...\n",
       "525    [New York State Career Centers,  Fire Departme...\n",
       "526    [ New York City Art Galleries,  NYCHA Developm...\n",
       "527    [New York City Art Galleries,  Zillow Home Val...\n",
       "528    [New York City Locations Providing Seasonal Fl...\n",
       "531    [New York City Art Galleries,  New York City P...\n",
       "532                           [ new york address points]\n",
       "534    [New York City Art Galleries,  new york addres...\n",
       "539                                                   []\n",
       "Name: except-min-criteria, dtype: object"
      ]
     },
     "execution_count": 13,
     "metadata": {},
     "output_type": "execute_result"
    }
   ],
   "source": [
    "pd.set_option('display.max_rows', 1000)\n",
    "df['except-min-criteria'] "
   ]
  },
  {
   "cell_type": "code",
   "execution_count": 14,
   "id": "f7ec8ffe",
   "metadata": {},
   "outputs": [],
   "source": [
    "# get novel data , non minimal criteria data \n",
    "\n",
    "import itertools\n",
    "def jaccard_similarity(x, y):\n",
    "    \"\"\" returns the jaccard similarity between two lists \"\"\"\n",
    "    intersection_cardinality = len(set.intersection(*[set(x), set(y)]))\n",
    "    union_cardinality = len(set.union(*[set(x), set(y)])) \n",
    "    if union_cardinality == 0:\n",
    "        return 1\n",
    "    return intersection_cardinality/float(union_cardinality)\n",
    "\n",
    "wordings_users = list(zip(df[\"except-min-criteria\"], df[\"username\"], df[\"phase\"]))\n",
    "\n",
    "result = []\n",
    "\n",
    "# create list of all possible combinations between sets of (wording, user) and loop through them\n",
    "for item in list(itertools.combinations(wordings_users, 2)):\n",
    "    similarity = jaccard_similarity(item[0][0], item[1][0])\n",
    "    data = {\"user1\": item[0][1], \"user2\": item[1][1], \"user1_phase\": item[0][2], \"user2_phase\": item[1][2], \"similarity\": similarity}\n",
    "    result.append(data)\n",
    "\n",
    "final = pd.DataFrame(result)\n",
    "final['temp'] = abs(final['user1_phase'] - final['user2_phase'])\n",
    "final = final[final['temp'] == 1]\n",
    "final = final[final['user1'] == final['user2']]\n",
    "final['stage'] = final['user1_phase']\n",
    "final['dist_search'] = 1 - final['similarity']\n",
    "final['type'] = 'novel'\n",
    "final.to_csv(\"processed_data/except_min_criteria.csv\")"
   ]
  },
  {
   "cell_type": "code",
   "execution_count": 15,
   "id": "accdfb86",
   "metadata": {},
   "outputs": [],
   "source": [
    "# get novel data , novel data used less than 20 times\n",
    "\n",
    "import itertools\n",
    "def jaccard_similarity(x, y):\n",
    "    \"\"\" returns the jaccard similarity between two lists \"\"\"\n",
    "    intersection_cardinality = len(set.intersection(*[set(x), set(y)]))\n",
    "    union_cardinality = len(set.union(*[set(x), set(y)])) \n",
    "    if union_cardinality == 0:\n",
    "        return 1\n",
    "    return intersection_cardinality/float(union_cardinality)\n",
    "\n",
    "wordings_users = list(zip(df[\"novel-20\"], df[\"username\"], df[\"phase\"]))\n",
    "\n",
    "result = []\n",
    "\n",
    "# create list of all possible combinations between sets of (wording, user) and loop through them\n",
    "for item in list(itertools.combinations(wordings_users, 2)):\n",
    "    similarity = jaccard_similarity(item[0][0], item[1][0])\n",
    "    data = {\"user1\": item[0][1], \"user2\": item[1][1], \"user1_phase\": item[0][2], \"user2_phase\": item[1][2], \"similarity\": similarity}\n",
    "    result.append(data)\n",
    "\n",
    "final = pd.DataFrame(result)\n",
    "final['temp'] = abs(final['user1_phase'] - final['user2_phase'])\n",
    "final = final[final['temp'] == 1]\n",
    "final = final[final['user1'] == final['user2']]\n",
    "final['stage'] = final['user1_phase']\n",
    "final['dist_search'] = 1 - final['similarity']\n",
    "final['type'] = 'novel'\n",
    "final.to_csv(\"processed_data/novel_20.csv\")"
   ]
  },
  {
   "cell_type": "code",
   "execution_count": 16,
   "id": "5e47676a",
   "metadata": {},
   "outputs": [
    {
     "data": {
      "text/plain": [
       "324    [Zillow Home Value Searching API,  Required We...\n",
       "325    [Zillow Home Value Searching API,  Required We...\n",
       "327                    [Zillow Home Value Searching API]\n",
       "329    [Zillow Home Value Searching API,  Required We...\n",
       "333                             [ New York neighborhood]\n",
       "335    [ Zillow Home Value Searching API,  New York C...\n",
       "336    [Neighborhood Tabulation Areas,  Housing New Y...\n",
       "339    [Zillow Home Value Searching API,  Required We...\n",
       "341    [New York museum,  Alternative Fuel Stations i...\n",
       "345                            [Open.ny.gov API Catalog]\n",
       "348    [Housing New York Units by Building,  Total Ho...\n",
       "349    [ School Safety Report,  New York State Career...\n",
       "351    [Fire Department Directory for New York State,...\n",
       "353    [New York City Museums,  NYCHA Development Dat...\n",
       "359                 [Housing New York Units by Building]\n",
       "361                 [Housing New York Units by Building]\n",
       "362    [New York City Museums,  New York Safety,  Hou...\n",
       "365    [New York City Art Galleries,  New York City L...\n",
       "367    [Zillow Home Value Searching API,  Required We...\n",
       "373       [Fire Department Directory for New York State]\n",
       "378    [New York City Art Galleries,  New York City M...\n",
       "382    [ New York State Career Centers,  New York Cit...\n",
       "383       [Fire Department Directory for New York State]\n",
       "385    [Bicycle Routes Across New York State: Map,  R...\n",
       "390    [New York City Art Galleries,  New York City M...\n",
       "394       [New York City Museums,  Required Weather API]\n",
       "395    [New York City Museums,  New York City Art Gal...\n",
       "400    [Bank-Owned ATM Locations in New York State,  ...\n",
       "404    [New York City Art Galleries,  New York City L...\n",
       "405                              [New York City Museums]\n",
       "408    [New York City Art Galleries,  New York City M...\n",
       "416                    [Zillow Home Value Searching API]\n",
       "417    [Fire Department Directory for New York State,...\n",
       "418    [Fire Department Directory for New York State,...\n",
       "419    [New York City Art Galleries,  Zillow Home Val...\n",
       "420    [New York City Locations Providing Seasonal Fl...\n",
       "423    [New York City Art Galleries,  New York City M...\n",
       "426    [Fire Department Directory for New York State,...\n",
       "Name: except-min-criteria, dtype: object"
      ]
     },
     "execution_count": 16,
     "metadata": {},
     "output_type": "execute_result"
    }
   ],
   "source": [
    "cleaned = df[df['except-min-criteria'].map(lambda d: len(d)) > 0]\n",
    "cleaned = cleaned[cleaned['phase'] == 4]\n",
    "cleaned['except-min-criteria']"
   ]
  },
  {
   "cell_type": "code",
   "execution_count": 17,
   "id": "1b964b5e",
   "metadata": {},
   "outputs": [
    {
     "name": "stderr",
     "output_type": "stream",
     "text": [
      "<ipython-input-17-a227632b3d0a>:2: SettingWithCopyWarning: \n",
      "A value is trying to be set on a copy of a slice from a DataFrame.\n",
      "Try using .loc[row_indexer,col_indexer] = value instead\n",
      "\n",
      "See the caveats in the documentation: https://pandas.pydata.org/pandas-docs/stable/user_guide/indexing.html#returning-a-view-versus-a-copy\n",
      "  df['len-except-min-criteria'] = df['except-min-criteria'].str.len()\n"
     ]
    }
   ],
   "source": [
    "# get length of non-minimal-criteria data\n",
    "df['len-except-min-criteria'] = df['except-min-criteria'].str.len()"
   ]
  },
  {
   "cell_type": "code",
   "execution_count": 18,
   "id": "2c386924",
   "metadata": {},
   "outputs": [
    {
     "name": "stderr",
     "output_type": "stream",
     "text": [
      "<ipython-input-18-eeccfc496d62>:2: SettingWithCopyWarning: \n",
      "A value is trying to be set on a copy of a slice from a DataFrame.\n",
      "Try using .loc[row_indexer,col_indexer] = value instead\n",
      "\n",
      "See the caveats in the documentation: https://pandas.pydata.org/pandas-docs/stable/user_guide/indexing.html#returning-a-view-versus-a-copy\n",
      "  df['len-novel-20'] = df['novel-20'].str.len()\n"
     ]
    }
   ],
   "source": [
    "# get length of used less than 20 times \n",
    "df['len-novel-20'] = df['novel-20'].str.len()"
   ]
  },
  {
   "cell_type": "code",
   "execution_count": 19,
   "id": "da7cd681",
   "metadata": {},
   "outputs": [
    {
     "name": "stderr",
     "output_type": "stream",
     "text": [
      "<ipython-input-19-a0b47af062f7>:2: SettingWithCopyWarning: \n",
      "A value is trying to be set on a copy of a slice from a DataFrame.\n",
      "Try using .loc[row_indexer,col_indexer] = value instead\n",
      "\n",
      "See the caveats in the documentation: https://pandas.pydata.org/pandas-docs/stable/user_guide/indexing.html#returning-a-view-versus-a-copy\n",
      "  df['len_data'] = df['extra dataset list'].str.len()\n"
     ]
    }
   ],
   "source": [
    "# get length of raw data\n",
    "df['len_data'] = df['extra dataset list'].str.len()"
   ]
  },
  {
   "cell_type": "code",
   "execution_count": 20,
   "id": "e01ae451",
   "metadata": {},
   "outputs": [],
   "source": [
    "df.to_csv(\"processed_data/len_data_novel.csv\")"
   ]
  },
  {
   "cell_type": "markdown",
   "id": "e50596ae",
   "metadata": {},
   "source": [
    "## Sanity Checks"
   ]
  },
  {
   "cell_type": "code",
   "execution_count": 21,
   "id": "8a5ecc22",
   "metadata": {},
   "outputs": [
    {
     "data": {
      "text/plain": [
       "0.8431571000133534"
      ]
     },
     "execution_count": 21,
     "metadata": {},
     "output_type": "execute_result"
    }
   ],
   "source": [
    "df['novelty'].corr(df['len-except-min-criteria'])"
   ]
  },
  {
   "cell_type": "code",
   "execution_count": 22,
   "id": "a5cc1077",
   "metadata": {},
   "outputs": [
    {
     "data": {
      "text/plain": [
       "0.8629630426676812"
      ]
     },
     "execution_count": 22,
     "metadata": {},
     "output_type": "execute_result"
    }
   ],
   "source": [
    "df['novelty'].corr(df['len_data'])"
   ]
  },
  {
   "cell_type": "code",
   "execution_count": 23,
   "id": "efc7c21a",
   "metadata": {},
   "outputs": [
    {
     "data": {
      "text/plain": [
       "0.7831004094993647"
      ]
     },
     "execution_count": 23,
     "metadata": {},
     "output_type": "execute_result"
    }
   ],
   "source": [
    "df['total_raw'].corr(df['len_data'])"
   ]
  },
  {
   "cell_type": "code",
   "execution_count": 24,
   "id": "3a59be01",
   "metadata": {},
   "outputs": [
    {
     "data": {
      "text/plain": [
       "0.7472431325784101"
      ]
     },
     "execution_count": 24,
     "metadata": {},
     "output_type": "execute_result"
    }
   ],
   "source": [
    "df['total_raw'].corr(df['len-except-min-criteria'])"
   ]
  },
  {
   "cell_type": "code",
   "execution_count": 25,
   "id": "6074968b",
   "metadata": {},
   "outputs": [
    {
     "data": {
      "text/plain": [
       "0.10675975372906177"
      ]
     },
     "execution_count": 25,
     "metadata": {},
     "output_type": "execute_result"
    }
   ],
   "source": [
    "df['user_requirement'].corr(df['len_data'])"
   ]
  },
  {
   "cell_type": "code",
   "execution_count": 26,
   "id": "8c8229d5",
   "metadata": {},
   "outputs": [
    {
     "data": {
      "text/plain": [
       "0.09032613375429177"
      ]
     },
     "execution_count": 26,
     "metadata": {},
     "output_type": "execute_result"
    }
   ],
   "source": [
    "df['user_requirement'].corr(df['len-except-min-criteria'])"
   ]
  },
  {
   "cell_type": "code",
   "execution_count": 27,
   "id": "e149c804",
   "metadata": {},
   "outputs": [
    {
     "data": {
      "text/plain": [
       "0.25343587625185204"
      ]
     },
     "execution_count": 27,
     "metadata": {},
     "output_type": "execute_result"
    }
   ],
   "source": [
    "df['infovis'].corr(df['len_data'])"
   ]
  },
  {
   "cell_type": "code",
   "execution_count": 28,
   "id": "809b4176",
   "metadata": {},
   "outputs": [
    {
     "data": {
      "text/plain": [
       "0.25343587625185204"
      ]
     },
     "execution_count": 28,
     "metadata": {},
     "output_type": "execute_result"
    }
   ],
   "source": [
    "df['infovis'].corr(df['len_data'])"
   ]
  },
  {
   "cell_type": "code",
   "execution_count": 29,
   "id": "dc4800c9",
   "metadata": {},
   "outputs": [
    {
     "data": {
      "text/plain": [
       "1.1666666666666667"
      ]
     },
     "execution_count": 29,
     "metadata": {},
     "output_type": "execute_result"
    }
   ],
   "source": [
    "df_phase1= df[df['phase']  == 1]\n",
    "df_phase1['len_data'].mean()"
   ]
  },
  {
   "cell_type": "code",
   "execution_count": 30,
   "id": "ff576f27",
   "metadata": {},
   "outputs": [
    {
     "data": {
      "text/plain": [
       "2.0714285714285716"
      ]
     },
     "execution_count": 30,
     "metadata": {},
     "output_type": "execute_result"
    }
   ],
   "source": [
    "df_phase2= df[df['phase']  == 2]\n",
    "df_phase2['len_data'].mean()"
   ]
  },
  {
   "cell_type": "code",
   "execution_count": 31,
   "id": "84b4191f",
   "metadata": {},
   "outputs": [
    {
     "data": {
      "text/plain": [
       "2.575"
      ]
     },
     "execution_count": 31,
     "metadata": {},
     "output_type": "execute_result"
    }
   ],
   "source": [
    "df_phase3= df[df['phase']  == 3]\n",
    "df_phase3['len_data'].mean()"
   ]
  },
  {
   "cell_type": "code",
   "execution_count": 32,
   "id": "e010b781",
   "metadata": {},
   "outputs": [
    {
     "data": {
      "text/plain": [
       "2.847826086956522"
      ]
     },
     "execution_count": 32,
     "metadata": {},
     "output_type": "execute_result"
    }
   ],
   "source": [
    "df_phase4= df[df['phase']  == 4]\n",
    "df_phase4['len_data'].mean()"
   ]
  },
  {
   "cell_type": "code",
   "execution_count": 33,
   "id": "e3edc79b",
   "metadata": {},
   "outputs": [
    {
     "data": {
      "text/plain": [
       "2.849056603773585"
      ]
     },
     "execution_count": 33,
     "metadata": {},
     "output_type": "execute_result"
    }
   ],
   "source": [
    "df_phase5= df[df['phase']  == 5]\n",
    "df_phase5['len_data'].mean()"
   ]
  },
  {
   "cell_type": "code",
   "execution_count": 34,
   "id": "378a0a58",
   "metadata": {},
   "outputs": [
    {
     "data": {
      "text/plain": [
       "0.5"
      ]
     },
     "execution_count": 34,
     "metadata": {},
     "output_type": "execute_result"
    }
   ],
   "source": [
    "df_phase1= df[df['phase']  == 1]\n",
    "df_phase1['len-except-min-criteria'].mean()"
   ]
  },
  {
   "cell_type": "code",
   "execution_count": 35,
   "id": "d37f2944",
   "metadata": {},
   "outputs": [
    {
     "data": {
      "text/plain": [
       "0.3333333333333333"
      ]
     },
     "execution_count": 35,
     "metadata": {},
     "output_type": "execute_result"
    }
   ],
   "source": [
    "df_phase1['len-novel-20'].mean()"
   ]
  },
  {
   "cell_type": "code",
   "execution_count": 36,
   "id": "d701a194",
   "metadata": {},
   "outputs": [
    {
     "data": {
      "text/plain": [
       "1.0"
      ]
     },
     "execution_count": 36,
     "metadata": {},
     "output_type": "execute_result"
    }
   ],
   "source": [
    "df_phase2= df[df['phase']  == 2]\n",
    "df_phase2['len-except-min-criteria'].median()"
   ]
  },
  {
   "cell_type": "code",
   "execution_count": 37,
   "id": "5a7e1af8",
   "metadata": {},
   "outputs": [
    {
     "data": {
      "text/plain": [
       "1.25"
      ]
     },
     "execution_count": 37,
     "metadata": {},
     "output_type": "execute_result"
    }
   ],
   "source": [
    "df_phase2['len-novel-20'].mean()"
   ]
  },
  {
   "cell_type": "code",
   "execution_count": 38,
   "id": "c7ad9733",
   "metadata": {},
   "outputs": [
    {
     "data": {
      "text/plain": [
       "1.0"
      ]
     },
     "execution_count": 38,
     "metadata": {},
     "output_type": "execute_result"
    }
   ],
   "source": [
    "df_phase3= df[df['phase']  == 3]\n",
    "df_phase3['len-except-min-criteria'].median()"
   ]
  },
  {
   "cell_type": "code",
   "execution_count": 39,
   "id": "1f102c35",
   "metadata": {},
   "outputs": [
    {
     "data": {
      "text/plain": [
       "1.675"
      ]
     },
     "execution_count": 39,
     "metadata": {},
     "output_type": "execute_result"
    }
   ],
   "source": [
    "df_phase3['len-novel-20'].mean()"
   ]
  },
  {
   "cell_type": "code",
   "execution_count": 40,
   "id": "41258af6",
   "metadata": {},
   "outputs": [
    {
     "data": {
      "text/plain": [
       "2.0"
      ]
     },
     "execution_count": 40,
     "metadata": {},
     "output_type": "execute_result"
    }
   ],
   "source": [
    "df_phase4= df[df['phase']  == 4]\n",
    "df_phase4['len-except-min-criteria'].median()"
   ]
  },
  {
   "cell_type": "code",
   "execution_count": 41,
   "id": "ddfb330c",
   "metadata": {},
   "outputs": [
    {
     "data": {
      "text/plain": [
       "1.9782608695652173"
      ]
     },
     "execution_count": 41,
     "metadata": {},
     "output_type": "execute_result"
    }
   ],
   "source": [
    "df_phase4['len-novel-20'].mean()"
   ]
  },
  {
   "cell_type": "code",
   "execution_count": 42,
   "id": "b9eda52c",
   "metadata": {},
   "outputs": [
    {
     "data": {
      "text/plain": [
       "2.0"
      ]
     },
     "execution_count": 42,
     "metadata": {},
     "output_type": "execute_result"
    }
   ],
   "source": [
    "df_phase5= df[df['phase']  == 5]\n",
    "df_phase5['len-except-min-criteria'].median()"
   ]
  },
  {
   "cell_type": "code",
   "execution_count": 43,
   "id": "83955bf9",
   "metadata": {},
   "outputs": [
    {
     "data": {
      "text/plain": [
       "1.9811320754716981"
      ]
     },
     "execution_count": 43,
     "metadata": {},
     "output_type": "execute_result"
    }
   ],
   "source": [
    "df_phase5['len-novel-20'].mean()"
   ]
  },
  {
   "cell_type": "code",
   "execution_count": 44,
   "id": "7bfa6477",
   "metadata": {},
   "outputs": [
    {
     "data": {
      "text/plain": [
       "0.9722732633353104"
      ]
     },
     "execution_count": 44,
     "metadata": {},
     "output_type": "execute_result"
    }
   ],
   "source": [
    "df['len_data'].corr(df['len-except-min-criteria'])"
   ]
  },
  {
   "cell_type": "code",
   "execution_count": null,
   "id": "f03ef12f",
   "metadata": {},
   "outputs": [],
   "source": []
  }
 ],
 "metadata": {
  "kernelspec": {
   "display_name": "Python 3",
   "language": "python",
   "name": "python3"
  },
  "language_info": {
   "codemirror_mode": {
    "name": "ipython",
    "version": 3
   },
   "file_extension": ".py",
   "mimetype": "text/x-python",
   "name": "python",
   "nbconvert_exporter": "python",
   "pygments_lexer": "ipython3",
   "version": "3.8.8"
  }
 },
 "nbformat": 4,
 "nbformat_minor": 5
}
