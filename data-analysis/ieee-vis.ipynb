{
 "cells": [
  {
   "cell_type": "code",
   "execution_count": 9,
   "id": "221aba80",
   "metadata": {},
   "outputs": [],
   "source": [
    "import pandas as pd\n",
    "\n",
    "df = pd.read_csv(\"all_data.csv\")\n",
    "df['dist_search'] = df['dist_search'].div(100).round(6)\n",
    "df.loc[df['dist_search'] == 1, 'dist_search'] = 0.99\n",
    "df.loc[df['dist_search'] == 0, 'dist_search'] = 0.01\n",
    "df.to_csv(\"all_data.csv\")"
   ]
  },
  {
   "cell_type": "code",
   "execution_count": 10,
   "id": "11541bf2",
   "metadata": {},
   "outputs": [],
   "source": [
    "import pandas as pd\n",
    "\n",
    "df = pd.read_csv(\"data_novel.csv\")\n",
    "df['dist_search'] = df['dist_search'].div(100).round(6)\n",
    "df.loc[df['dist_search'] == 1, 'dist_search'] = 0.99\n",
    "df.loc[df['dist_search'] == 0, 'dist_search'] = 0.01\n",
    "df.to_csv(\"data_novel.csv\")"
   ]
  },
  {
   "cell_type": "code",
   "execution_count": 11,
   "id": "7884f764",
   "metadata": {},
   "outputs": [],
   "source": [
    "import pandas as pd\n",
    "\n",
    "df = pd.read_csv(\"complete_novel.csv\")\n",
    "df['dist_search'] = df['dist_search'].div(100).round(6)\n",
    "df.loc[df['dist_search'] == 1, 'dist_search'] = 0.99\n",
    "df.loc[df['dist_search'] == 0, 'dist_search'] = 0.01\n",
    "df.to_csv(\"complete_novel.csv\")"
   ]
  },
  {
   "cell_type": "code",
   "execution_count": 12,
   "id": "890213eb",
   "metadata": {},
   "outputs": [],
   "source": [
    "import pandas as pd\n",
    "\n",
    "df = pd.read_csv(\"complete_data.csv\")\n",
    "df['dist_search'] = df['dist_search'].div(100).round(6)\n",
    "df.loc[df['dist_search'] == 1, 'dist_search'] = 0.99\n",
    "df.loc[df['dist_search'] == 0, 'dist_search'] = 0.01\n",
    "df.to_csv(\"complete_data.csv\")"
   ]
  },
  {
   "cell_type": "code",
   "execution_count": null,
   "id": "1f7c1967",
   "metadata": {},
   "outputs": [],
   "source": []
  },
  {
   "cell_type": "code",
   "execution_count": null,
   "id": "bdf6c726",
   "metadata": {},
   "outputs": [],
   "source": []
  }
 ],
 "metadata": {
  "kernelspec": {
   "display_name": "Python 3",
   "language": "python",
   "name": "python3"
  },
  "language_info": {
   "codemirror_mode": {
    "name": "ipython",
    "version": 3
   },
   "file_extension": ".py",
   "mimetype": "text/x-python",
   "name": "python",
   "nbconvert_exporter": "python",
   "pygments_lexer": "ipython3",
   "version": "3.8.8"
  }
 },
 "nbformat": 4,
 "nbformat_minor": 5
}
