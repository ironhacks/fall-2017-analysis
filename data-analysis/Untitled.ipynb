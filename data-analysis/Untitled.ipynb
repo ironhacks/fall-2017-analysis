{
 "cells": [
  {
   "cell_type": "code",
   "execution_count": 9,
   "id": "0be669a5",
   "metadata": {},
   "outputs": [
    {
     "data": {
      "text/plain": [
       "array([2.7310e-02, 0.0000e+00, 7.0700e+00, 0.0000e+00, 4.6900e-01,\n",
       "       6.4210e+00, 7.8900e+01, 4.9671e+00, 2.0000e+00, 2.4200e+02,\n",
       "       1.7800e+01, 3.9690e+02, 9.1400e+00])"
      ]
     },
     "execution_count": 9,
     "metadata": {},
     "output_type": "execute_result"
    }
   ],
   "source": [
    "from hmmlearn import hmm\n",
    "import matplotlib.pyplot as plt\n",
    "import numpy as np\n",
    "%matplotlib inline\n",
    "from sklearn import datasets\n",
    "#Data\n",
    "boston = datasets.load_boston()\n",
    "ts_data = boston.data[1,:]\n",
    "ts_data"
   ]
  },
  {
   "cell_type": "code",
   "execution_count": null,
   "id": "8ef78c20",
   "metadata": {},
   "outputs": [],
   "source": [
    "ts_data = boston.data[1,:]\n",
    "#HMM Model\n",
    "gm = hmm.GaussianHMM(n_components=3)\n",
    "gm.fit(ts_data.reshape(-1, 1))\n",
    "states = gm.predict(ts_data.reshape(-1, 1))\n",
    "#Plot\n",
    "color_dict = {0:\"r\",1:\"g\",2:\"b\"}\n",
    "color_array = [color_dict[i] for i in states]\n",
    "plt.scatter(range(len(ts_data)), ts_data, c=color_array)\n",
    "plt.title(\"HMM Model\")"
   ]
  }
 ],
 "metadata": {
  "kernelspec": {
   "display_name": "Python 3",
   "language": "python",
   "name": "python3"
  },
  "language_info": {
   "codemirror_mode": {
    "name": "ipython",
    "version": 3
   },
   "file_extension": ".py",
   "mimetype": "text/x-python",
   "name": "python",
   "nbconvert_exporter": "python",
   "pygments_lexer": "ipython3",
   "version": "3.8.8"
  }
 },
 "nbformat": 4,
 "nbformat_minor": 5
}
