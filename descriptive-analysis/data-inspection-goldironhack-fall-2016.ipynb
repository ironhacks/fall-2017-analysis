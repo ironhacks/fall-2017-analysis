{
 "cells": [
  {
   "cell_type": "markdown",
   "id": "80d0e72e",
   "metadata": {},
   "source": [
    "## This notebook is to do a preliminary exploration on the data quality generated from SSIM to determine the optimum research question. "
   ]
  },
  {
   "cell_type": "code",
   "execution_count": null,
   "id": "21bff4f3",
   "metadata": {},
   "outputs": [],
   "source": [
    "import pandas as pd\n",
    "import seaborn as sns\n",
    "\n",
    "df = pd.read_csv(\"../data/Unal-0-Phase-4-_Unal-0-Phase-5–raw-results.csv\")\n",
    "df_maps = df[df['comparison_type'] == 'maps']\n",
    "df_charts = df[df['comparison_type'] == 'charts']\n",
    "df_complete = df[df['comparison_type'] == 'complete']\n",
    "df_simple = df[df['comparison_type'] == 'simple']\n",
    "\n",
    "print (pd.concat([\n",
    "    df_maps.describe().reset_index().add_suffix('_maps'),\n",
    "    df_charts.describe().reset_index().add_suffix('_charts'),\n",
    "    df_complete.describe().reset_index().add_suffix('_complete'),\n",
    "    df_simple.describe().reset_index().add_suffix('_simple')\n",
    "  ], axis=1))"
   ]
  },
  {
   "cell_type": "code",
   "execution_count": null,
   "id": "8a965706",
   "metadata": {},
   "outputs": [],
   "source": [
    "df = pd.read_csv(\"../data/Unal-0-Phase-4-_Unal-0-Phase-5–no-color-raw-results.csv\")\n",
    "df_maps = df[df['comparison_type'] == 'maps']\n",
    "df_charts = df[df['comparison_type'] == 'charts']\n",
    "df_complete = df[df['comparison_type'] == 'complete']\n",
    "df_simple = df[df['comparison_type'] == 'simple']\n",
    "\n",
    "print (pd.concat([\n",
    "    df_maps.describe().reset_index().add_suffix('_maps'),\n",
    "    df_charts.describe().reset_index().add_suffix('_charts'),\n",
    "    df_complete.describe().reset_index().add_suffix('_complete'),\n",
    "    df_simple.describe().reset_index().add_suffix('_simple')\n",
    "  ], axis=1))"
   ]
  },
  {
   "cell_type": "code",
   "execution_count": null,
   "id": "5b6504d0",
   "metadata": {},
   "outputs": [],
   "source": [
    "df = pd.read_csv(\"../data/Unal-0-Phase-3-_Unal-0-Phase-4–raw-results.csv\")\n",
    "df_maps = df[df['comparison_type'] == 'maps']\n",
    "df_charts = df[df['comparison_type'] == 'charts']\n",
    "df_complete = df[df['comparison_type'] == 'complete']\n",
    "df_simple = df[df['comparison_type'] == 'simple']\n",
    "\n",
    "print (pd.concat([\n",
    "    df_maps.describe().reset_index().add_suffix('_maps'),\n",
    "    df_charts.describe().reset_index().add_suffix('_charts'),\n",
    "    df_complete.describe().reset_index().add_suffix('_complete'),\n",
    "    df_simple.describe().reset_index().add_suffix('_simple')\n",
    "  ], axis=1))"
   ]
  },
  {
   "cell_type": "code",
   "execution_count": null,
   "id": "ef2cad8d",
   "metadata": {},
   "outputs": [],
   "source": [
    "df = pd.read_csv(\"../data/Unal-0-Phase-3-_Unal-0-Phase-4–no-color-raw-results.csv\")\n",
    "df_maps = df[df['comparison_type'] == 'maps']\n",
    "df_charts = df[df['comparison_type'] == 'charts']\n",
    "df_complete = df[df['comparison_type'] == 'complete']\n",
    "df_simple = df[df['comparison_type'] == 'simple']\n",
    "\n",
    "print (pd.concat([\n",
    "    df_maps.describe().reset_index().add_suffix('_maps'),\n",
    "    df_charts.describe().reset_index().add_suffix('_charts'),\n",
    "    df_complete.describe().reset_index().add_suffix('_complete'),\n",
    "    df_simple.describe().reset_index().add_suffix('_simple')\n",
    "  ], axis=1))"
   ]
  },
  {
   "cell_type": "code",
   "execution_count": null,
   "id": "2a3f7799",
   "metadata": {},
   "outputs": [],
   "source": [
    "df = pd.read_csv(\"../data/Unal-0-Phase-2-_Unal-0-Phase-3–raw-results.csv\")\n",
    "df_maps = df[df['comparison_type'] == 'maps']\n",
    "df_charts = df[df['comparison_type'] == 'charts']\n",
    "df_complete = df[df['comparison_type'] == 'complete']\n",
    "df_simple = df[df['comparison_type'] == 'simple']\n",
    "\n",
    "print (pd.concat([\n",
    "    df_maps.describe().reset_index().add_suffix('_maps'),\n",
    "    df_charts.describe().reset_index().add_suffix('_charts'),\n",
    "    df_complete.describe().reset_index().add_suffix('_complete'),\n",
    "    df_simple.describe().reset_index().add_suffix('_simple')\n",
    "  ], axis=1))"
   ]
  },
  {
   "cell_type": "code",
   "execution_count": null,
   "id": "12f0c56b",
   "metadata": {},
   "outputs": [],
   "source": [
    "df = pd.read_csv(\"../data/Unal-0-Phase-2-_Unal-0-Phase-3–no-color-raw-results.csv\")\n",
    "df_maps = df[df['comparison_type'] == 'maps']\n",
    "df_charts = df[df['comparison_type'] == 'charts']\n",
    "df_complete = df[df['comparison_type'] == 'complete']\n",
    "df_simple = df[df['comparison_type'] == 'simple']\n",
    "\n",
    "print (pd.concat([\n",
    "    df_maps.describe().reset_index().add_suffix('_maps'),\n",
    "    df_charts.describe().reset_index().add_suffix('_charts'),\n",
    "    df_complete.describe().reset_index().add_suffix('_complete'),\n",
    "    df_simple.describe().reset_index().add_suffix('_simple')\n",
    "  ], axis=1))"
   ]
  },
  {
   "cell_type": "code",
   "execution_count": null,
   "id": "b319b009",
   "metadata": {},
   "outputs": [],
   "source": [
    "df = pd.read_csv(\"../data/Unal-0-Phase-1-_Unal-0-Phase-2–raw-results.csv\")\n",
    "df_maps = df[df['comparison_type'] == 'maps']\n",
    "df_charts = df[df['comparison_type'] == 'charts']\n",
    "df_complete = df[df['comparison_type'] == 'complete']\n",
    "df_simple = df[df['comparison_type'] == 'simple']\n",
    "\n",
    "print (pd.concat([\n",
    "    df_maps.describe().reset_index().add_suffix('_maps'),\n",
    "    df_charts.describe().reset_index().add_suffix('_charts'),\n",
    "    df_complete.describe().reset_index().add_suffix('_complete'),\n",
    "    df_simple.describe().reset_index().add_suffix('_simple')\n",
    "  ], axis=1))"
   ]
  },
  {
   "cell_type": "code",
   "execution_count": null,
   "id": "7d77e788",
   "metadata": {},
   "outputs": [],
   "source": [
    "df = pd.read_csv(\"../data/Unal-0-Phase-1-_Unal-0-Phase-2–no-color-raw-results.csv\")\n",
    "df_maps = df[df['comparison_type'] == 'maps']\n",
    "df_charts = df[df['comparison_type'] == 'charts']\n",
    "df_complete = df[df['comparison_type'] == 'complete']\n",
    "df_simple = df[df['comparison_type'] == 'simple']\n",
    "\n",
    "print (pd.concat([\n",
    "    df_maps.describe().reset_index().add_suffix('_maps'),\n",
    "    df_charts.describe().reset_index().add_suffix('_charts'),\n",
    "    df_complete.describe().reset_index().add_suffix('_complete'),\n",
    "    df_simple.describe().reset_index().add_suffix('_simple')\n",
    "  ], axis=1))"
   ]
  },
  {
   "cell_type": "markdown",
   "id": "4e403227",
   "metadata": {},
   "source": [
    "## Construct panel data for Green IronHack with colors "
   ]
  },
  {
   "cell_type": "code",
   "execution_count": 3,
   "id": "79918fd8",
   "metadata": {},
   "outputs": [],
   "source": [
    "import pandas as pd\n",
    "import seaborn as sns\n",
    "df_12 = pd.read_csv(\"../data/GoldIronHack-Phase1-GoldIronHack-Phase2/GoldIronHack-Phase1-GoldIronHack-Phase2–raw-results.csv\")\n",
    "df_23 = pd.read_csv(\"../data/GoldIronHack-Phase2-GoldIronHack-Phase3/GoldIronHack-Phase2-GoldIronHack-Phase3–raw-results.csv\")\n",
    "df_34 = pd.read_csv(\"../data/GoldIronHack-Phase3-GoldIronHack-Phase4/GoldIronHack-Phase3-GoldIronHack-Phase4–raw-results.csv\")\n",
    "df_12['stage'] = 1\n",
    "df_23['stage'] = 2\n",
    "df_34['stage'] = 3"
   ]
  },
  {
   "cell_type": "code",
   "execution_count": 4,
   "id": "b83032bb",
   "metadata": {},
   "outputs": [
    {
     "data": {
      "text/html": [
       "<div>\n",
       "<style scoped>\n",
       "    .dataframe tbody tr th:only-of-type {\n",
       "        vertical-align: middle;\n",
       "    }\n",
       "\n",
       "    .dataframe tbody tr th {\n",
       "        vertical-align: top;\n",
       "    }\n",
       "\n",
       "    .dataframe thead th {\n",
       "        text-align: right;\n",
       "    }\n",
       "</style>\n",
       "<table border=\"1\" class=\"dataframe\">\n",
       "  <thead>\n",
       "    <tr style=\"text-align: right;\">\n",
       "      <th></th>\n",
       "      <th>username1</th>\n",
       "      <th>username2</th>\n",
       "      <th>link1</th>\n",
       "      <th>link2</th>\n",
       "      <th>comparison_type</th>\n",
       "      <th>ssim</th>\n",
       "      <th>features2d</th>\n",
       "      <th>stage</th>\n",
       "    </tr>\n",
       "  </thead>\n",
       "  <tbody>\n",
       "    <tr>\n",
       "      <th>0</th>\n",
       "      <td>aorme</td>\n",
       "      <td>aorme</td>\n",
       "      <td>http://goldironhack2016.herokuapp.com/p1-aorme...</td>\n",
       "      <td>http://goldironhack2016.herokuapp.com/p2-aorme...</td>\n",
       "      <td>maps</td>\n",
       "      <td>43.5</td>\n",
       "      <td>100.0</td>\n",
       "      <td>1</td>\n",
       "    </tr>\n",
       "    <tr>\n",
       "      <th>1</th>\n",
       "      <td>aorme</td>\n",
       "      <td>beichhor</td>\n",
       "      <td>http://goldironhack2016.herokuapp.com/p1-aorme...</td>\n",
       "      <td>http://goldironhack2016.herokuapp.com/p2-beich...</td>\n",
       "      <td>maps</td>\n",
       "      <td>54.6</td>\n",
       "      <td>46.3</td>\n",
       "      <td>1</td>\n",
       "    </tr>\n",
       "    <tr>\n",
       "      <th>2</th>\n",
       "      <td>aorme</td>\n",
       "      <td>gillism</td>\n",
       "      <td>http://goldironhack2016.herokuapp.com/p1-aorme...</td>\n",
       "      <td>http://goldironhack2016.herokuapp.com/p2-gilli...</td>\n",
       "      <td>maps</td>\n",
       "      <td>100.0</td>\n",
       "      <td>100.0</td>\n",
       "      <td>1</td>\n",
       "    </tr>\n",
       "    <tr>\n",
       "      <th>3</th>\n",
       "      <td>aorme</td>\n",
       "      <td>hutchin5</td>\n",
       "      <td>http://goldironhack2016.herokuapp.com/p1-aorme...</td>\n",
       "      <td>http://goldironhack2016.herokuapp.com/p2-hutch...</td>\n",
       "      <td>maps</td>\n",
       "      <td>97.4</td>\n",
       "      <td>100.0</td>\n",
       "      <td>1</td>\n",
       "    </tr>\n",
       "    <tr>\n",
       "      <th>4</th>\n",
       "      <td>aorme</td>\n",
       "      <td>jwbalazs</td>\n",
       "      <td>http://goldironhack2016.herokuapp.com/p1-aorme...</td>\n",
       "      <td>http://goldironhack2016.herokuapp.com/p2-jwbal...</td>\n",
       "      <td>maps</td>\n",
       "      <td>8.5</td>\n",
       "      <td>42.0</td>\n",
       "      <td>1</td>\n",
       "    </tr>\n",
       "    <tr>\n",
       "      <th>...</th>\n",
       "      <td>...</td>\n",
       "      <td>...</td>\n",
       "      <td>...</td>\n",
       "      <td>...</td>\n",
       "      <td>...</td>\n",
       "      <td>...</td>\n",
       "      <td>...</td>\n",
       "      <td>...</td>\n",
       "    </tr>\n",
       "    <tr>\n",
       "      <th>8131</th>\n",
       "      <td>2016-Purdue-Ironhack-Tutorials</td>\n",
       "      <td>zhan1046</td>\n",
       "      <td>http://rawgit.com/priyankjain/2016-Purdue-Iron...</td>\n",
       "      <td>http://goldironhack-zhan1046-2016.herokuapp.com/</td>\n",
       "      <td>simple</td>\n",
       "      <td>87.2</td>\n",
       "      <td>100.0</td>\n",
       "      <td>3</td>\n",
       "    </tr>\n",
       "    <tr>\n",
       "      <th>8132</th>\n",
       "      <td>2016-Purdue-Ironhack-Tutorials</td>\n",
       "      <td>zhan2709</td>\n",
       "      <td>http://rawgit.com/priyankjain/2016-Purdue-Iron...</td>\n",
       "      <td>http://goldironhack-zhan2709-2016.herokuapp.com/</td>\n",
       "      <td>simple</td>\n",
       "      <td>92.2</td>\n",
       "      <td>53.3</td>\n",
       "      <td>3</td>\n",
       "    </tr>\n",
       "    <tr>\n",
       "      <th>8133</th>\n",
       "      <td>2016-Purdue-Ironhack-Tutorials</td>\n",
       "      <td>zhao719</td>\n",
       "      <td>http://rawgit.com/priyankjain/2016-Purdue-Iron...</td>\n",
       "      <td>http://goldironhack-zhao719-2016.herokuapp.com/</td>\n",
       "      <td>simple</td>\n",
       "      <td>49.4</td>\n",
       "      <td>100.0</td>\n",
       "      <td>3</td>\n",
       "    </tr>\n",
       "    <tr>\n",
       "      <th>8134</th>\n",
       "      <td>2016-Purdue-Ironhack-Tutorials</td>\n",
       "      <td>zhe1994</td>\n",
       "      <td>http://rawgit.com/priyankjain/2016-Purdue-Iron...</td>\n",
       "      <td>http://goldironhack-zhe1994-2016.herokuapp.com/</td>\n",
       "      <td>simple</td>\n",
       "      <td>6.1</td>\n",
       "      <td>100.0</td>\n",
       "      <td>3</td>\n",
       "    </tr>\n",
       "    <tr>\n",
       "      <th>8135</th>\n",
       "      <td>2016-Purdue-Ironhack-Tutorials</td>\n",
       "      <td>2016-Purdue-Ironhack-Tutorials</td>\n",
       "      <td>http://rawgit.com/priyankjain/2016-Purdue-Iron...</td>\n",
       "      <td>http://rawgit.com/priyankjain/2016-Purdue-Iron...</td>\n",
       "      <td>simple</td>\n",
       "      <td>100.0</td>\n",
       "      <td>100.0</td>\n",
       "      <td>3</td>\n",
       "    </tr>\n",
       "  </tbody>\n",
       "</table>\n",
       "<p>8136 rows × 8 columns</p>\n",
       "</div>"
      ],
      "text/plain": [
       "                           username1                       username2  \\\n",
       "0                              aorme                           aorme   \n",
       "1                              aorme                        beichhor   \n",
       "2                              aorme                         gillism   \n",
       "3                              aorme                        hutchin5   \n",
       "4                              aorme                        jwbalazs   \n",
       "...                              ...                             ...   \n",
       "8131  2016-Purdue-Ironhack-Tutorials                        zhan1046   \n",
       "8132  2016-Purdue-Ironhack-Tutorials                        zhan2709   \n",
       "8133  2016-Purdue-Ironhack-Tutorials                         zhao719   \n",
       "8134  2016-Purdue-Ironhack-Tutorials                         zhe1994   \n",
       "8135  2016-Purdue-Ironhack-Tutorials  2016-Purdue-Ironhack-Tutorials   \n",
       "\n",
       "                                                  link1  \\\n",
       "0     http://goldironhack2016.herokuapp.com/p1-aorme...   \n",
       "1     http://goldironhack2016.herokuapp.com/p1-aorme...   \n",
       "2     http://goldironhack2016.herokuapp.com/p1-aorme...   \n",
       "3     http://goldironhack2016.herokuapp.com/p1-aorme...   \n",
       "4     http://goldironhack2016.herokuapp.com/p1-aorme...   \n",
       "...                                                 ...   \n",
       "8131  http://rawgit.com/priyankjain/2016-Purdue-Iron...   \n",
       "8132  http://rawgit.com/priyankjain/2016-Purdue-Iron...   \n",
       "8133  http://rawgit.com/priyankjain/2016-Purdue-Iron...   \n",
       "8134  http://rawgit.com/priyankjain/2016-Purdue-Iron...   \n",
       "8135  http://rawgit.com/priyankjain/2016-Purdue-Iron...   \n",
       "\n",
       "                                                  link2 comparison_type  \\\n",
       "0     http://goldironhack2016.herokuapp.com/p2-aorme...            maps   \n",
       "1     http://goldironhack2016.herokuapp.com/p2-beich...            maps   \n",
       "2     http://goldironhack2016.herokuapp.com/p2-gilli...            maps   \n",
       "3     http://goldironhack2016.herokuapp.com/p2-hutch...            maps   \n",
       "4     http://goldironhack2016.herokuapp.com/p2-jwbal...            maps   \n",
       "...                                                 ...             ...   \n",
       "8131   http://goldironhack-zhan1046-2016.herokuapp.com/          simple   \n",
       "8132   http://goldironhack-zhan2709-2016.herokuapp.com/          simple   \n",
       "8133    http://goldironhack-zhao719-2016.herokuapp.com/          simple   \n",
       "8134    http://goldironhack-zhe1994-2016.herokuapp.com/          simple   \n",
       "8135  http://rawgit.com/priyankjain/2016-Purdue-Iron...          simple   \n",
       "\n",
       "       ssim  features2d  stage  \n",
       "0      43.5       100.0      1  \n",
       "1      54.6        46.3      1  \n",
       "2     100.0       100.0      1  \n",
       "3      97.4       100.0      1  \n",
       "4       8.5        42.0      1  \n",
       "...     ...         ...    ...  \n",
       "8131   87.2       100.0      3  \n",
       "8132   92.2        53.3      3  \n",
       "8133   49.4       100.0      3  \n",
       "8134    6.1       100.0      3  \n",
       "8135  100.0       100.0      3  \n",
       "\n",
       "[8136 rows x 8 columns]"
      ]
     },
     "execution_count": 4,
     "metadata": {},
     "output_type": "execute_result"
    }
   ],
   "source": [
    "df_color = pd.concat([df_12, df_23, df_34], ignore_index=True)\n",
    "df_color"
   ]
  },
  {
   "cell_type": "code",
   "execution_count": 5,
   "id": "2e93583e",
   "metadata": {},
   "outputs": [
    {
     "data": {
      "text/plain": [
       "0        43.5\n",
       "1        54.6\n",
       "2       100.0\n",
       "3        97.4\n",
       "4         8.5\n",
       "        ...  \n",
       "8131     87.2\n",
       "8132     92.2\n",
       "8133     49.4\n",
       "8134      6.1\n",
       "8135    100.0\n",
       "Name: ssim, Length: 8136, dtype: float64"
      ]
     },
     "execution_count": 5,
     "metadata": {},
     "output_type": "execute_result"
    }
   ],
   "source": [
    "df_color['ssim'] = pd.to_numeric(df_color['ssim'], errors='coerce').fillna(0, downcast='infer')\n",
    "df_color['ssim']"
   ]
  },
  {
   "cell_type": "code",
   "execution_count": 6,
   "id": "865320fe",
   "metadata": {},
   "outputs": [
    {
     "data": {
      "text/plain": [
       "0         maps\n",
       "1         maps\n",
       "2         maps\n",
       "3         maps\n",
       "4         maps\n",
       "         ...  \n",
       "8131    simple\n",
       "8132    simple\n",
       "8133    simple\n",
       "8134    simple\n",
       "8135    simple\n",
       "Name: comparison_type, Length: 8136, dtype: object"
      ]
     },
     "execution_count": 6,
     "metadata": {},
     "output_type": "execute_result"
    }
   ],
   "source": [
    "df_color['comparison_type'] = df_color['comparison_type'].astype('str')\n",
    "df_color['comparison_type']"
   ]
  },
  {
   "cell_type": "code",
   "execution_count": 7,
   "id": "1ff1b586",
   "metadata": {},
   "outputs": [
    {
     "name": "stderr",
     "output_type": "stream",
     "text": [
      "<ipython-input-7-bca2befd49fd>:2: SettingWithCopyWarning: \n",
      "A value is trying to be set on a copy of a slice from a DataFrame.\n",
      "Try using .loc[row_indexer,col_indexer] = value instead\n",
      "\n",
      "See the caveats in the documentation: https://pandas.pydata.org/pandas-docs/stable/user_guide/indexing.html#returning-a-view-versus-a-copy\n",
      "  df_color_exp['ssim_exp'] = 100 - df_color_exp['ssim']\n"
     ]
    }
   ],
   "source": [
    "df_color_exp = df_color[df_color['username1'] == df_color['username2']]\n",
    "df_color_exp['ssim_exp'] = 100 - df_color_exp['ssim']"
   ]
  },
  {
   "cell_type": "code",
   "execution_count": 8,
   "id": "b1458575",
   "metadata": {},
   "outputs": [
    {
     "data": {
      "text/plain": [
       "<AxesSubplot:xlabel='stage', ylabel='ssim_exp'>"
      ]
     },
     "execution_count": 8,
     "metadata": {},
     "output_type": "execute_result"
    },
    {
     "data": {
      "image/png": "[encoded data removed]",
      "text/plain": [
       "<Figure size 432x288 with 1 Axes>"
      ]
     },
     "metadata": {
      "needs_background": "light"
     },
     "output_type": "display_data"
    }
   ],
   "source": [
    "sns.lineplot(data=df_color_exp, x='stage', y='ssim_exp', hue='comparison_type')"
   ]
  },
  {
   "cell_type": "markdown",
   "id": "2e3fc877",
   "metadata": {},
   "source": [
    "## Construct panel data for Green IronHacks with no colors"
   ]
  },
  {
   "cell_type": "code",
   "execution_count": 12,
   "id": "ac09c552",
   "metadata": {},
   "outputs": [],
   "source": [
    "df_12 = pd.read_csv(\"../data/GoldIronHack-Phase1-GoldIronHack-Phase2/GoldIronHack-Phase1-GoldIronHack-Phase2–no-color-raw-results.csv\")\n",
    "df_23 = pd.read_csv(\"../data/GoldIronHack-Phase2-GoldIronHack-Phase3/GoldIronHack-Phase2-GoldIronHack-Phase3–no-color-raw-results.csv\")\n",
    "df_34 = pd.read_csv(\"../data/GoldIronHack-Phase3-GoldIronHack-Phase4/GoldIronHack-Phase3-GoldIronHack-Phase4–no-color-raw-results.csv\")\n",
    "df_12['stage'] = 1\n",
    "df_23['stage'] = 2\n",
    "df_34['stage'] = 3"
   ]
  },
  {
   "cell_type": "code",
   "execution_count": 13,
   "id": "8c5d09ea",
   "metadata": {},
   "outputs": [
    {
     "data": {
      "text/html": [
       "<div>\n",
       "<style scoped>\n",
       "    .dataframe tbody tr th:only-of-type {\n",
       "        vertical-align: middle;\n",
       "    }\n",
       "\n",
       "    .dataframe tbody tr th {\n",
       "        vertical-align: top;\n",
       "    }\n",
       "\n",
       "    .dataframe thead th {\n",
       "        text-align: right;\n",
       "    }\n",
       "</style>\n",
       "<table border=\"1\" class=\"dataframe\">\n",
       "  <thead>\n",
       "    <tr style=\"text-align: right;\">\n",
       "      <th></th>\n",
       "      <th>username1</th>\n",
       "      <th>username2</th>\n",
       "      <th>link1</th>\n",
       "      <th>link2</th>\n",
       "      <th>comparison_type</th>\n",
       "      <th>ssim</th>\n",
       "      <th>features2d</th>\n",
       "      <th>stage</th>\n",
       "    </tr>\n",
       "  </thead>\n",
       "  <tbody>\n",
       "    <tr>\n",
       "      <th>0</th>\n",
       "      <td>aorme</td>\n",
       "      <td>aorme</td>\n",
       "      <td>http://goldironhack2016.herokuapp.com/p1-aorme...</td>\n",
       "      <td>http://goldironhack2016.herokuapp.com/p2-aorme...</td>\n",
       "      <td>maps</td>\n",
       "      <td>46.5</td>\n",
       "      <td>100.0</td>\n",
       "      <td>1</td>\n",
       "    </tr>\n",
       "    <tr>\n",
       "      <th>1</th>\n",
       "      <td>aorme</td>\n",
       "      <td>beichhor</td>\n",
       "      <td>http://goldironhack2016.herokuapp.com/p1-aorme...</td>\n",
       "      <td>http://goldironhack2016.herokuapp.com/p2-beich...</td>\n",
       "      <td>maps</td>\n",
       "      <td>60.5</td>\n",
       "      <td>99.0</td>\n",
       "      <td>1</td>\n",
       "    </tr>\n",
       "    <tr>\n",
       "      <th>2</th>\n",
       "      <td>aorme</td>\n",
       "      <td>gillism</td>\n",
       "      <td>http://goldironhack2016.herokuapp.com/p1-aorme...</td>\n",
       "      <td>http://goldironhack2016.herokuapp.com/p2-gilli...</td>\n",
       "      <td>maps</td>\n",
       "      <td>100.0</td>\n",
       "      <td>100.0</td>\n",
       "      <td>1</td>\n",
       "    </tr>\n",
       "    <tr>\n",
       "      <th>3</th>\n",
       "      <td>aorme</td>\n",
       "      <td>hutchin5</td>\n",
       "      <td>http://goldironhack2016.herokuapp.com/p1-aorme...</td>\n",
       "      <td>http://goldironhack2016.herokuapp.com/p2-hutch...</td>\n",
       "      <td>maps</td>\n",
       "      <td>95.6</td>\n",
       "      <td>100.0</td>\n",
       "      <td>1</td>\n",
       "    </tr>\n",
       "    <tr>\n",
       "      <th>4</th>\n",
       "      <td>aorme</td>\n",
       "      <td>jwbalazs</td>\n",
       "      <td>http://goldironhack2016.herokuapp.com/p1-aorme...</td>\n",
       "      <td>http://goldironhack2016.herokuapp.com/p2-jwbal...</td>\n",
       "      <td>maps</td>\n",
       "      <td>58.3</td>\n",
       "      <td>71.0</td>\n",
       "      <td>1</td>\n",
       "    </tr>\n",
       "    <tr>\n",
       "      <th>...</th>\n",
       "      <td>...</td>\n",
       "      <td>...</td>\n",
       "      <td>...</td>\n",
       "      <td>...</td>\n",
       "      <td>...</td>\n",
       "      <td>...</td>\n",
       "      <td>...</td>\n",
       "      <td>...</td>\n",
       "    </tr>\n",
       "    <tr>\n",
       "      <th>8131</th>\n",
       "      <td>2016-Purdue-Ironhack-Tutorials</td>\n",
       "      <td>zhan1046</td>\n",
       "      <td>http://rawgit.com/priyankjain/2016-Purdue-Iron...</td>\n",
       "      <td>http://goldironhack-zhan1046-2016.herokuapp.com/</td>\n",
       "      <td>simple</td>\n",
       "      <td>88.2</td>\n",
       "      <td>100.0</td>\n",
       "      <td>3</td>\n",
       "    </tr>\n",
       "    <tr>\n",
       "      <th>8132</th>\n",
       "      <td>2016-Purdue-Ironhack-Tutorials</td>\n",
       "      <td>zhan2709</td>\n",
       "      <td>http://rawgit.com/priyankjain/2016-Purdue-Iron...</td>\n",
       "      <td>http://goldironhack-zhan2709-2016.herokuapp.com/</td>\n",
       "      <td>simple</td>\n",
       "      <td>92.7</td>\n",
       "      <td>42.1</td>\n",
       "      <td>3</td>\n",
       "    </tr>\n",
       "    <tr>\n",
       "      <th>8133</th>\n",
       "      <td>2016-Purdue-Ironhack-Tutorials</td>\n",
       "      <td>zhao719</td>\n",
       "      <td>http://rawgit.com/priyankjain/2016-Purdue-Iron...</td>\n",
       "      <td>http://goldironhack-zhao719-2016.herokuapp.com/</td>\n",
       "      <td>simple</td>\n",
       "      <td>97.3</td>\n",
       "      <td>100.0</td>\n",
       "      <td>3</td>\n",
       "    </tr>\n",
       "    <tr>\n",
       "      <th>8134</th>\n",
       "      <td>2016-Purdue-Ironhack-Tutorials</td>\n",
       "      <td>zhe1994</td>\n",
       "      <td>http://rawgit.com/priyankjain/2016-Purdue-Iron...</td>\n",
       "      <td>http://goldironhack-zhe1994-2016.herokuapp.com/</td>\n",
       "      <td>simple</td>\n",
       "      <td>4.5</td>\n",
       "      <td>100.0</td>\n",
       "      <td>3</td>\n",
       "    </tr>\n",
       "    <tr>\n",
       "      <th>8135</th>\n",
       "      <td>2016-Purdue-Ironhack-Tutorials</td>\n",
       "      <td>2016-Purdue-Ironhack-Tutorials</td>\n",
       "      <td>http://rawgit.com/priyankjain/2016-Purdue-Iron...</td>\n",
       "      <td>http://rawgit.com/priyankjain/2016-Purdue-Iron...</td>\n",
       "      <td>simple</td>\n",
       "      <td>100.0</td>\n",
       "      <td>100.0</td>\n",
       "      <td>3</td>\n",
       "    </tr>\n",
       "  </tbody>\n",
       "</table>\n",
       "<p>8136 rows × 8 columns</p>\n",
       "</div>"
      ],
      "text/plain": [
       "                           username1                       username2  \\\n",
       "0                              aorme                           aorme   \n",
       "1                              aorme                        beichhor   \n",
       "2                              aorme                         gillism   \n",
       "3                              aorme                        hutchin5   \n",
       "4                              aorme                        jwbalazs   \n",
       "...                              ...                             ...   \n",
       "8131  2016-Purdue-Ironhack-Tutorials                        zhan1046   \n",
       "8132  2016-Purdue-Ironhack-Tutorials                        zhan2709   \n",
       "8133  2016-Purdue-Ironhack-Tutorials                         zhao719   \n",
       "8134  2016-Purdue-Ironhack-Tutorials                         zhe1994   \n",
       "8135  2016-Purdue-Ironhack-Tutorials  2016-Purdue-Ironhack-Tutorials   \n",
       "\n",
       "                                                  link1  \\\n",
       "0     http://goldironhack2016.herokuapp.com/p1-aorme...   \n",
       "1     http://goldironhack2016.herokuapp.com/p1-aorme...   \n",
       "2     http://goldironhack2016.herokuapp.com/p1-aorme...   \n",
       "3     http://goldironhack2016.herokuapp.com/p1-aorme...   \n",
       "4     http://goldironhack2016.herokuapp.com/p1-aorme...   \n",
       "...                                                 ...   \n",
       "8131  http://rawgit.com/priyankjain/2016-Purdue-Iron...   \n",
       "8132  http://rawgit.com/priyankjain/2016-Purdue-Iron...   \n",
       "8133  http://rawgit.com/priyankjain/2016-Purdue-Iron...   \n",
       "8134  http://rawgit.com/priyankjain/2016-Purdue-Iron...   \n",
       "8135  http://rawgit.com/priyankjain/2016-Purdue-Iron...   \n",
       "\n",
       "                                                  link2 comparison_type  \\\n",
       "0     http://goldironhack2016.herokuapp.com/p2-aorme...            maps   \n",
       "1     http://goldironhack2016.herokuapp.com/p2-beich...            maps   \n",
       "2     http://goldironhack2016.herokuapp.com/p2-gilli...            maps   \n",
       "3     http://goldironhack2016.herokuapp.com/p2-hutch...            maps   \n",
       "4     http://goldironhack2016.herokuapp.com/p2-jwbal...            maps   \n",
       "...                                                 ...             ...   \n",
       "8131   http://goldironhack-zhan1046-2016.herokuapp.com/          simple   \n",
       "8132   http://goldironhack-zhan2709-2016.herokuapp.com/          simple   \n",
       "8133    http://goldironhack-zhao719-2016.herokuapp.com/          simple   \n",
       "8134    http://goldironhack-zhe1994-2016.herokuapp.com/          simple   \n",
       "8135  http://rawgit.com/priyankjain/2016-Purdue-Iron...          simple   \n",
       "\n",
       "       ssim  features2d  stage  \n",
       "0      46.5       100.0      1  \n",
       "1      60.5        99.0      1  \n",
       "2     100.0       100.0      1  \n",
       "3      95.6       100.0      1  \n",
       "4      58.3        71.0      1  \n",
       "...     ...         ...    ...  \n",
       "8131   88.2       100.0      3  \n",
       "8132   92.7        42.1      3  \n",
       "8133   97.3       100.0      3  \n",
       "8134    4.5       100.0      3  \n",
       "8135  100.0       100.0      3  \n",
       "\n",
       "[8136 rows x 8 columns]"
      ]
     },
     "execution_count": 13,
     "metadata": {},
     "output_type": "execute_result"
    }
   ],
   "source": [
    "df_no_color = pd.concat([df_12, df_23, df_34], ignore_index=True)\n",
    "df_no_color"
   ]
  },
  {
   "cell_type": "code",
   "execution_count": 14,
   "id": "e41bd3b9",
   "metadata": {},
   "outputs": [
    {
     "data": {
      "text/plain": [
       "0        46.5\n",
       "1        60.5\n",
       "2       100.0\n",
       "3        95.6\n",
       "4        58.3\n",
       "        ...  \n",
       "8131     88.2\n",
       "8132     92.7\n",
       "8133     97.3\n",
       "8134      4.5\n",
       "8135    100.0\n",
       "Name: ssim, Length: 8136, dtype: float64"
      ]
     },
     "execution_count": 14,
     "metadata": {},
     "output_type": "execute_result"
    }
   ],
   "source": [
    "df_no_color['ssim'] = pd.to_numeric(df_no_color['ssim'], errors='coerce').fillna(0, downcast='infer')\n",
    "df_no_color['ssim']"
   ]
  },
  {
   "cell_type": "code",
   "execution_count": 15,
   "id": "869a639e",
   "metadata": {},
   "outputs": [
    {
     "data": {
      "text/plain": [
       "0         maps\n",
       "1         maps\n",
       "2         maps\n",
       "3         maps\n",
       "4         maps\n",
       "         ...  \n",
       "8131    simple\n",
       "8132    simple\n",
       "8133    simple\n",
       "8134    simple\n",
       "8135    simple\n",
       "Name: comparison_type, Length: 8136, dtype: object"
      ]
     },
     "execution_count": 15,
     "metadata": {},
     "output_type": "execute_result"
    }
   ],
   "source": [
    "df_no_color['comparison_type'] = df_no_color['comparison_type'].astype('str')\n",
    "df_no_color['comparison_type']"
   ]
  },
  {
   "cell_type": "code",
   "execution_count": 19,
   "id": "8910a52b",
   "metadata": {},
   "outputs": [
    {
     "name": "stderr",
     "output_type": "stream",
     "text": [
      "<ipython-input-19-2ab218f13454>:2: SettingWithCopyWarning: \n",
      "A value is trying to be set on a copy of a slice from a DataFrame.\n",
      "Try using .loc[row_indexer,col_indexer] = value instead\n",
      "\n",
      "See the caveats in the documentation: https://pandas.pydata.org/pandas-docs/stable/user_guide/indexing.html#returning-a-view-versus-a-copy\n",
      "  df_no_color_exp['ssim_exp'] = 100 - df_no_color_exp['ssim']\n"
     ]
    }
   ],
   "source": [
    "df_no_color_exp = df_no_color[df_no_color['username1'] == df_no_color['username2']]\n",
    "df_no_color_exp['ssim_exp'] = 100 - df_no_color_exp['ssim']"
   ]
  },
  {
   "cell_type": "code",
   "execution_count": 20,
   "id": "97fe00a3",
   "metadata": {},
   "outputs": [
    {
     "data": {
      "text/plain": [
       "<matplotlib.legend.Legend at 0x7fe5ffde6a00>"
      ]
     },
     "execution_count": 20,
     "metadata": {},
     "output_type": "execute_result"
    },
    {
     "data": {
      "image/png": "[encoded data removed]",
      "text/plain": [
       "<Figure size 432x288 with 1 Axes>"
      ]
     },
     "metadata": {
      "needs_background": "light"
     },
     "output_type": "display_data"
    }
   ],
   "source": [
    "ax = sns.lineplot(data=df_no_color_exp, x='stage', y='ssim_exp', hue='comparison_type')\n",
    "ax.legend(loc='center right', bbox_to_anchor=(1.25, 0.5), ncol=1)"
   ]
  },
  {
   "cell_type": "code",
   "execution_count": null,
   "id": "eb904961",
   "metadata": {},
   "outputs": [],
   "source": []
  }
 ],
 "metadata": {
  "kernelspec": {
   "display_name": "Python 3",
   "language": "python",
   "name": "python3"
  },
  "language_info": {
   "codemirror_mode": {
    "name": "ipython",
    "version": 3
   },
   "file_extension": ".py",
   "mimetype": "text/x-python",
   "name": "python",
   "nbconvert_exporter": "python",
   "pygments_lexer": "ipython3",
   "version": "3.8.8"
  }
 },
 "nbformat": 4,
 "nbformat_minor": 5
}
