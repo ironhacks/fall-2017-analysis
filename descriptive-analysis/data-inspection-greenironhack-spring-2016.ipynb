{
 "cells": [
  {
   "cell_type": "markdown",
   "id": "80d0e72e",
   "metadata": {},
   "source": [
    "## This notebook is to do a preliminary exploration on the data quality generated from SSIM to determine the optimum research question. "
   ]
  },
  {
   "cell_type": "code",
   "execution_count": null,
   "id": "21bff4f3",
   "metadata": {},
   "outputs": [],
   "source": [
    "import pandas as pd\n",
    "import seaborn as sns\n",
    "\n",
    "df = pd.read_csv(\"../data/Unal-0-Phase-4-_Unal-0-Phase-5–raw-results.csv\")\n",
    "df_maps = df[df['comparison_type'] == 'maps']\n",
    "df_charts = df[df['comparison_type'] == 'charts']\n",
    "df_complete = df[df['comparison_type'] == 'complete']\n",
    "df_simple = df[df['comparison_type'] == 'simple']\n",
    "\n",
    "print (pd.concat([\n",
    "    df_maps.describe().reset_index().add_suffix('_maps'),\n",
    "    df_charts.describe().reset_index().add_suffix('_charts'),\n",
    "    df_complete.describe().reset_index().add_suffix('_complete'),\n",
    "    df_simple.describe().reset_index().add_suffix('_simple')\n",
    "  ], axis=1))"
   ]
  },
  {
   "cell_type": "code",
   "execution_count": null,
   "id": "8a965706",
   "metadata": {},
   "outputs": [],
   "source": [
    "df = pd.read_csv(\"../data/Unal-0-Phase-4-_Unal-0-Phase-5–no-color-raw-results.csv\")\n",
    "df_maps = df[df['comparison_type'] == 'maps']\n",
    "df_charts = df[df['comparison_type'] == 'charts']\n",
    "df_complete = df[df['comparison_type'] == 'complete']\n",
    "df_simple = df[df['comparison_type'] == 'simple']\n",
    "\n",
    "print (pd.concat([\n",
    "    df_maps.describe().reset_index().add_suffix('_maps'),\n",
    "    df_charts.describe().reset_index().add_suffix('_charts'),\n",
    "    df_complete.describe().reset_index().add_suffix('_complete'),\n",
    "    df_simple.describe().reset_index().add_suffix('_simple')\n",
    "  ], axis=1))"
   ]
  },
  {
   "cell_type": "code",
   "execution_count": null,
   "id": "5b6504d0",
   "metadata": {},
   "outputs": [],
   "source": [
    "df = pd.read_csv(\"../data/Unal-0-Phase-3-_Unal-0-Phase-4–raw-results.csv\")\n",
    "df_maps = df[df['comparison_type'] == 'maps']\n",
    "df_charts = df[df['comparison_type'] == 'charts']\n",
    "df_complete = df[df['comparison_type'] == 'complete']\n",
    "df_simple = df[df['comparison_type'] == 'simple']\n",
    "\n",
    "print (pd.concat([\n",
    "    df_maps.describe().reset_index().add_suffix('_maps'),\n",
    "    df_charts.describe().reset_index().add_suffix('_charts'),\n",
    "    df_complete.describe().reset_index().add_suffix('_complete'),\n",
    "    df_simple.describe().reset_index().add_suffix('_simple')\n",
    "  ], axis=1))"
   ]
  },
  {
   "cell_type": "code",
   "execution_count": null,
   "id": "ef2cad8d",
   "metadata": {},
   "outputs": [],
   "source": [
    "df = pd.read_csv(\"../data/Unal-0-Phase-3-_Unal-0-Phase-4–no-color-raw-results.csv\")\n",
    "df_maps = df[df['comparison_type'] == 'maps']\n",
    "df_charts = df[df['comparison_type'] == 'charts']\n",
    "df_complete = df[df['comparison_type'] == 'complete']\n",
    "df_simple = df[df['comparison_type'] == 'simple']\n",
    "\n",
    "print (pd.concat([\n",
    "    df_maps.describe().reset_index().add_suffix('_maps'),\n",
    "    df_charts.describe().reset_index().add_suffix('_charts'),\n",
    "    df_complete.describe().reset_index().add_suffix('_complete'),\n",
    "    df_simple.describe().reset_index().add_suffix('_simple')\n",
    "  ], axis=1))"
   ]
  },
  {
   "cell_type": "code",
   "execution_count": null,
   "id": "2a3f7799",
   "metadata": {},
   "outputs": [],
   "source": [
    "df = pd.read_csv(\"../data/Unal-0-Phase-2-_Unal-0-Phase-3–raw-results.csv\")\n",
    "df_maps = df[df['comparison_type'] == 'maps']\n",
    "df_charts = df[df['comparison_type'] == 'charts']\n",
    "df_complete = df[df['comparison_type'] == 'complete']\n",
    "df_simple = df[df['comparison_type'] == 'simple']\n",
    "\n",
    "print (pd.concat([\n",
    "    df_maps.describe().reset_index().add_suffix('_maps'),\n",
    "    df_charts.describe().reset_index().add_suffix('_charts'),\n",
    "    df_complete.describe().reset_index().add_suffix('_complete'),\n",
    "    df_simple.describe().reset_index().add_suffix('_simple')\n",
    "  ], axis=1))"
   ]
  },
  {
   "cell_type": "code",
   "execution_count": null,
   "id": "12f0c56b",
   "metadata": {},
   "outputs": [],
   "source": [
    "df = pd.read_csv(\"../data/Unal-0-Phase-2-_Unal-0-Phase-3–no-color-raw-results.csv\")\n",
    "df_maps = df[df['comparison_type'] == 'maps']\n",
    "df_charts = df[df['comparison_type'] == 'charts']\n",
    "df_complete = df[df['comparison_type'] == 'complete']\n",
    "df_simple = df[df['comparison_type'] == 'simple']\n",
    "\n",
    "print (pd.concat([\n",
    "    df_maps.describe().reset_index().add_suffix('_maps'),\n",
    "    df_charts.describe().reset_index().add_suffix('_charts'),\n",
    "    df_complete.describe().reset_index().add_suffix('_complete'),\n",
    "    df_simple.describe().reset_index().add_suffix('_simple')\n",
    "  ], axis=1))"
   ]
  },
  {
   "cell_type": "code",
   "execution_count": null,
   "id": "b319b009",
   "metadata": {},
   "outputs": [],
   "source": [
    "df = pd.read_csv(\"../data/Unal-0-Phase-1-_Unal-0-Phase-2–raw-results.csv\")\n",
    "df_maps = df[df['comparison_type'] == 'maps']\n",
    "df_charts = df[df['comparison_type'] == 'charts']\n",
    "df_complete = df[df['comparison_type'] == 'complete']\n",
    "df_simple = df[df['comparison_type'] == 'simple']\n",
    "\n",
    "print (pd.concat([\n",
    "    df_maps.describe().reset_index().add_suffix('_maps'),\n",
    "    df_charts.describe().reset_index().add_suffix('_charts'),\n",
    "    df_complete.describe().reset_index().add_suffix('_complete'),\n",
    "    df_simple.describe().reset_index().add_suffix('_simple')\n",
    "  ], axis=1))"
   ]
  },
  {
   "cell_type": "code",
   "execution_count": null,
   "id": "7d77e788",
   "metadata": {},
   "outputs": [],
   "source": [
    "df = pd.read_csv(\"../data/Unal-0-Phase-1-_Unal-0-Phase-2–no-color-raw-results.csv\")\n",
    "df_maps = df[df['comparison_type'] == 'maps']\n",
    "df_charts = df[df['comparison_type'] == 'charts']\n",
    "df_complete = df[df['comparison_type'] == 'complete']\n",
    "df_simple = df[df['comparison_type'] == 'simple']\n",
    "\n",
    "print (pd.concat([\n",
    "    df_maps.describe().reset_index().add_suffix('_maps'),\n",
    "    df_charts.describe().reset_index().add_suffix('_charts'),\n",
    "    df_complete.describe().reset_index().add_suffix('_complete'),\n",
    "    df_simple.describe().reset_index().add_suffix('_simple')\n",
    "  ], axis=1))"
   ]
  },
  {
   "cell_type": "markdown",
   "id": "4e403227",
   "metadata": {},
   "source": [
    "## Construct panel data for Green IronHack with colors "
   ]
  },
  {
   "cell_type": "code",
   "execution_count": 1,
   "id": "79918fd8",
   "metadata": {},
   "outputs": [],
   "source": [
    "import pandas as pd\n",
    "import seaborn as sns\n",
    "df_12 = pd.read_csv(\"../data/GreenIronHack-Phase1-GreenIronHack-Phase2/GreenIronHack-Phase1-GreenIronHack-Phase2–raw-results.csv\")\n",
    "df_23 = pd.read_csv(\"../data/GreenIronHack-Phase2-GreenIronHack-Phase3/GreenIronHack-Phase2-GreenIronHack-Phase3–raw-results.csv\")\n",
    "df_34 = pd.read_csv(\"../data/GreenIronHack-Phase3-GreenIronHack-Phase4/GreenIronHack-Phase3-GreenIronHack-Phase4–raw-results.csv\")\n",
    "df_12['stage'] = 1\n",
    "df_23['stage'] = 2\n",
    "df_34['stage'] = 3"
   ]
  },
  {
   "cell_type": "code",
   "execution_count": 2,
   "id": "b83032bb",
   "metadata": {},
   "outputs": [
    {
     "data": {
      "text/html": [
       "<div>\n",
       "<style scoped>\n",
       "    .dataframe tbody tr th:only-of-type {\n",
       "        vertical-align: middle;\n",
       "    }\n",
       "\n",
       "    .dataframe tbody tr th {\n",
       "        vertical-align: top;\n",
       "    }\n",
       "\n",
       "    .dataframe thead th {\n",
       "        text-align: right;\n",
       "    }\n",
       "</style>\n",
       "<table border=\"1\" class=\"dataframe\">\n",
       "  <thead>\n",
       "    <tr style=\"text-align: right;\">\n",
       "      <th></th>\n",
       "      <th>username1</th>\n",
       "      <th>username2</th>\n",
       "      <th>link1</th>\n",
       "      <th>link2</th>\n",
       "      <th>comparison_type</th>\n",
       "      <th>ssim</th>\n",
       "      <th>features2d</th>\n",
       "      <th>stage</th>\n",
       "    </tr>\n",
       "  </thead>\n",
       "  <tbody>\n",
       "    <tr>\n",
       "      <th>0</th>\n",
       "      <td>huayifang</td>\n",
       "      <td>megamindhenry</td>\n",
       "      <td>http://phase1-greenironhack-huayifang.herokuap...</td>\n",
       "      <td>http://greenironhack2016.herokuapp.com/p2-Mega...</td>\n",
       "      <td>maps</td>\n",
       "      <td>56.7</td>\n",
       "      <td>64.9</td>\n",
       "      <td>1</td>\n",
       "    </tr>\n",
       "    <tr>\n",
       "      <th>1</th>\n",
       "      <td>huayifang</td>\n",
       "      <td>lostkuma</td>\n",
       "      <td>http://phase1-greenironhack-huayifang.herokuap...</td>\n",
       "      <td>http://greenironhack2016.herokuapp.com/p2-lost...</td>\n",
       "      <td>maps</td>\n",
       "      <td>60.3</td>\n",
       "      <td>52.9</td>\n",
       "      <td>1</td>\n",
       "    </tr>\n",
       "    <tr>\n",
       "      <th>2</th>\n",
       "      <td>huayifang</td>\n",
       "      <td>meetalivaidya</td>\n",
       "      <td>http://phase1-greenironhack-huayifang.herokuap...</td>\n",
       "      <td>http://greenironhack2016.herokuapp.com/p2-meet...</td>\n",
       "      <td>maps</td>\n",
       "      <td>16.9</td>\n",
       "      <td>69.3</td>\n",
       "      <td>1</td>\n",
       "    </tr>\n",
       "    <tr>\n",
       "      <th>3</th>\n",
       "      <td>huayifang</td>\n",
       "      <td>pjt90</td>\n",
       "      <td>http://phase1-greenironhack-huayifang.herokuap...</td>\n",
       "      <td>http://greenironhack2016.herokuapp.com/p2-pjt9...</td>\n",
       "      <td>maps</td>\n",
       "      <td>63.7</td>\n",
       "      <td>62.0</td>\n",
       "      <td>1</td>\n",
       "    </tr>\n",
       "    <tr>\n",
       "      <th>4</th>\n",
       "      <td>huayifang</td>\n",
       "      <td>pmittal115</td>\n",
       "      <td>http://phase1-greenironhack-huayifang.herokuap...</td>\n",
       "      <td>http://greenironhack2016.herokuapp.com/p2-pmit...</td>\n",
       "      <td>maps</td>\n",
       "      <td>79.8</td>\n",
       "      <td>97.0</td>\n",
       "      <td>1</td>\n",
       "    </tr>\n",
       "    <tr>\n",
       "      <th>...</th>\n",
       "      <td>...</td>\n",
       "      <td>...</td>\n",
       "      <td>...</td>\n",
       "      <td>...</td>\n",
       "      <td>...</td>\n",
       "      <td>...</td>\n",
       "      <td>...</td>\n",
       "      <td>...</td>\n",
       "    </tr>\n",
       "    <tr>\n",
       "      <th>4146</th>\n",
       "      <td>wluan</td>\n",
       "      <td>tanmayee123</td>\n",
       "      <td>http://greenironhack-wluan.herokuapp.com/d3.html</td>\n",
       "      <td>http://greenironhack-tanmayee123-2016.herokuap...</td>\n",
       "      <td>simple</td>\n",
       "      <td>5.7</td>\n",
       "      <td>100.0</td>\n",
       "      <td>3</td>\n",
       "    </tr>\n",
       "    <tr>\n",
       "      <th>4147</th>\n",
       "      <td>wluan</td>\n",
       "      <td>taycurt17</td>\n",
       "      <td>http://greenironhack-wluan.herokuapp.com/d3.html</td>\n",
       "      <td>http://greenironhack-taycurt17-2016.herokuapp....</td>\n",
       "      <td>simple</td>\n",
       "      <td>10.7</td>\n",
       "      <td>100.0</td>\n",
       "      <td>3</td>\n",
       "    </tr>\n",
       "    <tr>\n",
       "      <th>4148</th>\n",
       "      <td>wluan</td>\n",
       "      <td>lostkuma</td>\n",
       "      <td>http://greenironhack-wluan.herokuapp.com/d3.html</td>\n",
       "      <td>http://lostkuma.herokuapp.com/</td>\n",
       "      <td>simple</td>\n",
       "      <td>12.3</td>\n",
       "      <td>100.0</td>\n",
       "      <td>3</td>\n",
       "    </tr>\n",
       "    <tr>\n",
       "      <th>4149</th>\n",
       "      <td>wluan</td>\n",
       "      <td>rawgit</td>\n",
       "      <td>http://greenironhack-wluan.herokuapp.com/d3.html</td>\n",
       "      <td>http://rawgit.com/priyankjain/2016-purdue-iron...</td>\n",
       "      <td>simple</td>\n",
       "      <td>3.0</td>\n",
       "      <td>100.0</td>\n",
       "      <td>3</td>\n",
       "    </tr>\n",
       "    <tr>\n",
       "      <th>4150</th>\n",
       "      <td>wluan</td>\n",
       "      <td>sauravn</td>\n",
       "      <td>http://greenironhack-wluan.herokuapp.com/d3.html</td>\n",
       "      <td>http://sauravn-application.herokuapp.com/</td>\n",
       "      <td>simple</td>\n",
       "      <td>8.7</td>\n",
       "      <td>100.0</td>\n",
       "      <td>3</td>\n",
       "    </tr>\n",
       "  </tbody>\n",
       "</table>\n",
       "<p>4151 rows × 8 columns</p>\n",
       "</div>"
      ],
      "text/plain": [
       "      username1      username2  \\\n",
       "0     huayifang  megamindhenry   \n",
       "1     huayifang       lostkuma   \n",
       "2     huayifang  meetalivaidya   \n",
       "3     huayifang          pjt90   \n",
       "4     huayifang     pmittal115   \n",
       "...         ...            ...   \n",
       "4146      wluan    tanmayee123   \n",
       "4147      wluan      taycurt17   \n",
       "4148      wluan       lostkuma   \n",
       "4149      wluan         rawgit   \n",
       "4150      wluan        sauravn   \n",
       "\n",
       "                                                  link1  \\\n",
       "0     http://phase1-greenironhack-huayifang.herokuap...   \n",
       "1     http://phase1-greenironhack-huayifang.herokuap...   \n",
       "2     http://phase1-greenironhack-huayifang.herokuap...   \n",
       "3     http://phase1-greenironhack-huayifang.herokuap...   \n",
       "4     http://phase1-greenironhack-huayifang.herokuap...   \n",
       "...                                                 ...   \n",
       "4146   http://greenironhack-wluan.herokuapp.com/d3.html   \n",
       "4147   http://greenironhack-wluan.herokuapp.com/d3.html   \n",
       "4148   http://greenironhack-wluan.herokuapp.com/d3.html   \n",
       "4149   http://greenironhack-wluan.herokuapp.com/d3.html   \n",
       "4150   http://greenironhack-wluan.herokuapp.com/d3.html   \n",
       "\n",
       "                                                  link2 comparison_type  ssim  \\\n",
       "0     http://greenironhack2016.herokuapp.com/p2-Mega...            maps  56.7   \n",
       "1     http://greenironhack2016.herokuapp.com/p2-lost...            maps  60.3   \n",
       "2     http://greenironhack2016.herokuapp.com/p2-meet...            maps  16.9   \n",
       "3     http://greenironhack2016.herokuapp.com/p2-pjt9...            maps  63.7   \n",
       "4     http://greenironhack2016.herokuapp.com/p2-pmit...            maps  79.8   \n",
       "...                                                 ...             ...   ...   \n",
       "4146  http://greenironhack-tanmayee123-2016.herokuap...          simple   5.7   \n",
       "4147  http://greenironhack-taycurt17-2016.herokuapp....          simple  10.7   \n",
       "4148                     http://lostkuma.herokuapp.com/          simple  12.3   \n",
       "4149  http://rawgit.com/priyankjain/2016-purdue-iron...          simple   3.0   \n",
       "4150          http://sauravn-application.herokuapp.com/          simple   8.7   \n",
       "\n",
       "      features2d  stage  \n",
       "0           64.9      1  \n",
       "1           52.9      1  \n",
       "2           69.3      1  \n",
       "3           62.0      1  \n",
       "4           97.0      1  \n",
       "...          ...    ...  \n",
       "4146       100.0      3  \n",
       "4147       100.0      3  \n",
       "4148       100.0      3  \n",
       "4149       100.0      3  \n",
       "4150       100.0      3  \n",
       "\n",
       "[4151 rows x 8 columns]"
      ]
     },
     "execution_count": 2,
     "metadata": {},
     "output_type": "execute_result"
    }
   ],
   "source": [
    "df_color = pd.concat([df_12, df_23, df_34], ignore_index=True)\n",
    "df_color"
   ]
  },
  {
   "cell_type": "code",
   "execution_count": 3,
   "id": "2e93583e",
   "metadata": {},
   "outputs": [
    {
     "data": {
      "text/plain": [
       "0       56.7\n",
       "1       60.3\n",
       "2       16.9\n",
       "3       63.7\n",
       "4       79.8\n",
       "        ... \n",
       "4146     5.7\n",
       "4147    10.7\n",
       "4148    12.3\n",
       "4149     3.0\n",
       "4150     8.7\n",
       "Name: ssim, Length: 4151, dtype: float64"
      ]
     },
     "execution_count": 3,
     "metadata": {},
     "output_type": "execute_result"
    }
   ],
   "source": [
    "df_color['ssim'] = pd.to_numeric(df_color['ssim'], errors='coerce').fillna(0, downcast='infer')\n",
    "df_color['ssim']"
   ]
  },
  {
   "cell_type": "code",
   "execution_count": 4,
   "id": "865320fe",
   "metadata": {},
   "outputs": [
    {
     "data": {
      "text/plain": [
       "0         maps\n",
       "1         maps\n",
       "2         maps\n",
       "3         maps\n",
       "4         maps\n",
       "         ...  \n",
       "4146    simple\n",
       "4147    simple\n",
       "4148    simple\n",
       "4149    simple\n",
       "4150    simple\n",
       "Name: comparison_type, Length: 4151, dtype: object"
      ]
     },
     "execution_count": 4,
     "metadata": {},
     "output_type": "execute_result"
    }
   ],
   "source": [
    "df_color['comparison_type'] = df_color['comparison_type'].astype('str')\n",
    "df_color['comparison_type']"
   ]
  },
  {
   "cell_type": "code",
   "execution_count": 5,
   "id": "1ff1b586",
   "metadata": {},
   "outputs": [
    {
     "name": "stderr",
     "output_type": "stream",
     "text": [
      "<ipython-input-5-bca2befd49fd>:2: SettingWithCopyWarning: \n",
      "A value is trying to be set on a copy of a slice from a DataFrame.\n",
      "Try using .loc[row_indexer,col_indexer] = value instead\n",
      "\n",
      "See the caveats in the documentation: https://pandas.pydata.org/pandas-docs/stable/user_guide/indexing.html#returning-a-view-versus-a-copy\n",
      "  df_color_exp['ssim_exp'] = 100 - df_color_exp['ssim']\n"
     ]
    }
   ],
   "source": [
    "df_color_exp = df_color[df_color['username1'] == df_color['username2']]\n",
    "df_color_exp['ssim_exp'] = 100 - df_color_exp['ssim']"
   ]
  },
  {
   "cell_type": "code",
   "execution_count": 6,
   "id": "b1458575",
   "metadata": {},
   "outputs": [
    {
     "data": {
      "text/plain": [
       "<AxesSubplot:xlabel='stage', ylabel='ssim_exp'>"
      ]
     },
     "execution_count": 6,
     "metadata": {},
     "output_type": "execute_result"
    },
    {
     "data": {
      "image/png": "[encoded data removed]",
      "text/plain": [
       "<Figure size 432x288 with 1 Axes>"
      ]
     },
     "metadata": {
      "needs_background": "light"
     },
     "output_type": "display_data"
    }
   ],
   "source": [
    "sns.lineplot(data=df_color_exp, x='stage', y='ssim_exp', hue='comparison_type')"
   ]
  },
  {
   "cell_type": "markdown",
   "id": "2e3fc877",
   "metadata": {},
   "source": [
    "## Construct panel data for Green IronHacks with no colors"
   ]
  },
  {
   "cell_type": "code",
   "execution_count": 7,
   "id": "ac09c552",
   "metadata": {},
   "outputs": [],
   "source": [
    "df_12 = pd.read_csv(\"../data/GreenIronHack-Phase1-GreenIronHack-Phase2/GreenIronHack-Phase1-GreenIronHack-Phase2–no-color-raw-results.csv\")\n",
    "df_23 = pd.read_csv(\"../data/GreenIronHack-Phase2-GreenIronHack-Phase3/GreenIronHack-Phase2-GreenIronHack-Phase3–no-color-raw-results.csv\")\n",
    "df_34 = pd.read_csv(\"../data/GreenIronHack-Phase3-GreenIronHack-Phase4/GreenIronHack-Phase3-GreenIronHack-Phase4–no-color-raw-results.csv\")\n",
    "df_12['stage'] = 1\n",
    "df_23['stage'] = 2\n",
    "df_34['stage'] = 3"
   ]
  },
  {
   "cell_type": "code",
   "execution_count": 8,
   "id": "8c5d09ea",
   "metadata": {},
   "outputs": [
    {
     "data": {
      "text/html": [
       "<div>\n",
       "<style scoped>\n",
       "    .dataframe tbody tr th:only-of-type {\n",
       "        vertical-align: middle;\n",
       "    }\n",
       "\n",
       "    .dataframe tbody tr th {\n",
       "        vertical-align: top;\n",
       "    }\n",
       "\n",
       "    .dataframe thead th {\n",
       "        text-align: right;\n",
       "    }\n",
       "</style>\n",
       "<table border=\"1\" class=\"dataframe\">\n",
       "  <thead>\n",
       "    <tr style=\"text-align: right;\">\n",
       "      <th></th>\n",
       "      <th>username1</th>\n",
       "      <th>username2</th>\n",
       "      <th>link1</th>\n",
       "      <th>link2</th>\n",
       "      <th>comparison_type</th>\n",
       "      <th>ssim</th>\n",
       "      <th>features2d</th>\n",
       "      <th>stage</th>\n",
       "    </tr>\n",
       "  </thead>\n",
       "  <tbody>\n",
       "    <tr>\n",
       "      <th>0</th>\n",
       "      <td>huayifang</td>\n",
       "      <td>megamindhenry</td>\n",
       "      <td>http://phase1-greenironhack-huayifang.herokuap...</td>\n",
       "      <td>http://greenironhack2016.herokuapp.com/p2-Mega...</td>\n",
       "      <td>maps</td>\n",
       "      <td>49.2</td>\n",
       "      <td>88.4</td>\n",
       "      <td>1</td>\n",
       "    </tr>\n",
       "    <tr>\n",
       "      <th>1</th>\n",
       "      <td>huayifang</td>\n",
       "      <td>lostkuma</td>\n",
       "      <td>http://phase1-greenironhack-huayifang.herokuap...</td>\n",
       "      <td>http://greenironhack2016.herokuapp.com/p2-lost...</td>\n",
       "      <td>maps</td>\n",
       "      <td>75.6</td>\n",
       "      <td>90.5</td>\n",
       "      <td>1</td>\n",
       "    </tr>\n",
       "    <tr>\n",
       "      <th>2</th>\n",
       "      <td>huayifang</td>\n",
       "      <td>meetalivaidya</td>\n",
       "      <td>http://phase1-greenironhack-huayifang.herokuap...</td>\n",
       "      <td>http://greenironhack2016.herokuapp.com/p2-meet...</td>\n",
       "      <td>maps</td>\n",
       "      <td>90.2</td>\n",
       "      <td>86.6</td>\n",
       "      <td>1</td>\n",
       "    </tr>\n",
       "    <tr>\n",
       "      <th>3</th>\n",
       "      <td>huayifang</td>\n",
       "      <td>pjt90</td>\n",
       "      <td>http://phase1-greenironhack-huayifang.herokuap...</td>\n",
       "      <td>http://greenironhack2016.herokuapp.com/p2-pjt9...</td>\n",
       "      <td>maps</td>\n",
       "      <td>86.2</td>\n",
       "      <td>99.0</td>\n",
       "      <td>1</td>\n",
       "    </tr>\n",
       "    <tr>\n",
       "      <th>4</th>\n",
       "      <td>huayifang</td>\n",
       "      <td>pmittal115</td>\n",
       "      <td>http://phase1-greenironhack-huayifang.herokuap...</td>\n",
       "      <td>http://greenironhack2016.herokuapp.com/p2-pmit...</td>\n",
       "      <td>maps</td>\n",
       "      <td>90.2</td>\n",
       "      <td>94.0</td>\n",
       "      <td>1</td>\n",
       "    </tr>\n",
       "    <tr>\n",
       "      <th>...</th>\n",
       "      <td>...</td>\n",
       "      <td>...</td>\n",
       "      <td>...</td>\n",
       "      <td>...</td>\n",
       "      <td>...</td>\n",
       "      <td>...</td>\n",
       "      <td>...</td>\n",
       "      <td>...</td>\n",
       "    </tr>\n",
       "    <tr>\n",
       "      <th>4146</th>\n",
       "      <td>wluan</td>\n",
       "      <td>tanmayee123</td>\n",
       "      <td>http://greenironhack-wluan.herokuapp.com/d3.html</td>\n",
       "      <td>http://greenironhack-tanmayee123-2016.herokuap...</td>\n",
       "      <td>simple</td>\n",
       "      <td>98.9</td>\n",
       "      <td>100.0</td>\n",
       "      <td>3</td>\n",
       "    </tr>\n",
       "    <tr>\n",
       "      <th>4147</th>\n",
       "      <td>wluan</td>\n",
       "      <td>taycurt17</td>\n",
       "      <td>http://greenironhack-wluan.herokuapp.com/d3.html</td>\n",
       "      <td>http://greenironhack-taycurt17-2016.herokuapp....</td>\n",
       "      <td>simple</td>\n",
       "      <td>81.3</td>\n",
       "      <td>100.0</td>\n",
       "      <td>3</td>\n",
       "    </tr>\n",
       "    <tr>\n",
       "      <th>4148</th>\n",
       "      <td>wluan</td>\n",
       "      <td>lostkuma</td>\n",
       "      <td>http://greenironhack-wluan.herokuapp.com/d3.html</td>\n",
       "      <td>http://lostkuma.herokuapp.com/</td>\n",
       "      <td>simple</td>\n",
       "      <td>96.4</td>\n",
       "      <td>100.0</td>\n",
       "      <td>3</td>\n",
       "    </tr>\n",
       "    <tr>\n",
       "      <th>4149</th>\n",
       "      <td>wluan</td>\n",
       "      <td>rawgit</td>\n",
       "      <td>http://greenironhack-wluan.herokuapp.com/d3.html</td>\n",
       "      <td>http://rawgit.com/priyankjain/2016-purdue-iron...</td>\n",
       "      <td>simple</td>\n",
       "      <td>0.0</td>\n",
       "      <td>100.0</td>\n",
       "      <td>3</td>\n",
       "    </tr>\n",
       "    <tr>\n",
       "      <th>4150</th>\n",
       "      <td>wluan</td>\n",
       "      <td>sauravn</td>\n",
       "      <td>http://greenironhack-wluan.herokuapp.com/d3.html</td>\n",
       "      <td>http://sauravn-application.herokuapp.com/</td>\n",
       "      <td>simple</td>\n",
       "      <td>98.6</td>\n",
       "      <td>100.0</td>\n",
       "      <td>3</td>\n",
       "    </tr>\n",
       "  </tbody>\n",
       "</table>\n",
       "<p>4151 rows × 8 columns</p>\n",
       "</div>"
      ],
      "text/plain": [
       "      username1      username2  \\\n",
       "0     huayifang  megamindhenry   \n",
       "1     huayifang       lostkuma   \n",
       "2     huayifang  meetalivaidya   \n",
       "3     huayifang          pjt90   \n",
       "4     huayifang     pmittal115   \n",
       "...         ...            ...   \n",
       "4146      wluan    tanmayee123   \n",
       "4147      wluan      taycurt17   \n",
       "4148      wluan       lostkuma   \n",
       "4149      wluan         rawgit   \n",
       "4150      wluan        sauravn   \n",
       "\n",
       "                                                  link1  \\\n",
       "0     http://phase1-greenironhack-huayifang.herokuap...   \n",
       "1     http://phase1-greenironhack-huayifang.herokuap...   \n",
       "2     http://phase1-greenironhack-huayifang.herokuap...   \n",
       "3     http://phase1-greenironhack-huayifang.herokuap...   \n",
       "4     http://phase1-greenironhack-huayifang.herokuap...   \n",
       "...                                                 ...   \n",
       "4146   http://greenironhack-wluan.herokuapp.com/d3.html   \n",
       "4147   http://greenironhack-wluan.herokuapp.com/d3.html   \n",
       "4148   http://greenironhack-wluan.herokuapp.com/d3.html   \n",
       "4149   http://greenironhack-wluan.herokuapp.com/d3.html   \n",
       "4150   http://greenironhack-wluan.herokuapp.com/d3.html   \n",
       "\n",
       "                                                  link2 comparison_type  ssim  \\\n",
       "0     http://greenironhack2016.herokuapp.com/p2-Mega...            maps  49.2   \n",
       "1     http://greenironhack2016.herokuapp.com/p2-lost...            maps  75.6   \n",
       "2     http://greenironhack2016.herokuapp.com/p2-meet...            maps  90.2   \n",
       "3     http://greenironhack2016.herokuapp.com/p2-pjt9...            maps  86.2   \n",
       "4     http://greenironhack2016.herokuapp.com/p2-pmit...            maps  90.2   \n",
       "...                                                 ...             ...   ...   \n",
       "4146  http://greenironhack-tanmayee123-2016.herokuap...          simple  98.9   \n",
       "4147  http://greenironhack-taycurt17-2016.herokuapp....          simple  81.3   \n",
       "4148                     http://lostkuma.herokuapp.com/          simple  96.4   \n",
       "4149  http://rawgit.com/priyankjain/2016-purdue-iron...          simple   0.0   \n",
       "4150          http://sauravn-application.herokuapp.com/          simple  98.6   \n",
       "\n",
       "      features2d  stage  \n",
       "0           88.4      1  \n",
       "1           90.5      1  \n",
       "2           86.6      1  \n",
       "3           99.0      1  \n",
       "4           94.0      1  \n",
       "...          ...    ...  \n",
       "4146       100.0      3  \n",
       "4147       100.0      3  \n",
       "4148       100.0      3  \n",
       "4149       100.0      3  \n",
       "4150       100.0      3  \n",
       "\n",
       "[4151 rows x 8 columns]"
      ]
     },
     "execution_count": 8,
     "metadata": {},
     "output_type": "execute_result"
    }
   ],
   "source": [
    "df_no_color = pd.concat([df_12, df_23, df_34], ignore_index=True)\n",
    "df_no_color"
   ]
  },
  {
   "cell_type": "code",
   "execution_count": 9,
   "id": "e41bd3b9",
   "metadata": {},
   "outputs": [
    {
     "data": {
      "text/plain": [
       "0       49.2\n",
       "1       75.6\n",
       "2       90.2\n",
       "3       86.2\n",
       "4       90.2\n",
       "        ... \n",
       "4146    98.9\n",
       "4147    81.3\n",
       "4148    96.4\n",
       "4149     0.0\n",
       "4150    98.6\n",
       "Name: ssim, Length: 4151, dtype: float64"
      ]
     },
     "execution_count": 9,
     "metadata": {},
     "output_type": "execute_result"
    }
   ],
   "source": [
    "df_no_color['ssim'] = pd.to_numeric(df_no_color['ssim'], errors='coerce').fillna(0, downcast='infer')\n",
    "df_no_color['ssim']"
   ]
  },
  {
   "cell_type": "code",
   "execution_count": 10,
   "id": "869a639e",
   "metadata": {},
   "outputs": [
    {
     "data": {
      "text/plain": [
       "0         maps\n",
       "1         maps\n",
       "2         maps\n",
       "3         maps\n",
       "4         maps\n",
       "         ...  \n",
       "4146    simple\n",
       "4147    simple\n",
       "4148    simple\n",
       "4149    simple\n",
       "4150    simple\n",
       "Name: comparison_type, Length: 4151, dtype: object"
      ]
     },
     "execution_count": 10,
     "metadata": {},
     "output_type": "execute_result"
    }
   ],
   "source": [
    "df_no_color['comparison_type'] = df_no_color['comparison_type'].astype('str')\n",
    "df_no_color['comparison_type']"
   ]
  },
  {
   "cell_type": "code",
   "execution_count": 11,
   "id": "8910a52b",
   "metadata": {},
   "outputs": [
    {
     "name": "stderr",
     "output_type": "stream",
     "text": [
      "<ipython-input-11-2ab218f13454>:2: SettingWithCopyWarning: \n",
      "A value is trying to be set on a copy of a slice from a DataFrame.\n",
      "Try using .loc[row_indexer,col_indexer] = value instead\n",
      "\n",
      "See the caveats in the documentation: https://pandas.pydata.org/pandas-docs/stable/user_guide/indexing.html#returning-a-view-versus-a-copy\n",
      "  df_no_color_exp['ssim_exp'] = 100 - df_no_color_exp['ssim']\n"
     ]
    }
   ],
   "source": [
    "df_no_color_exp = df_no_color[df_no_color['username1'] == df_no_color['username2']]\n",
    "df_no_color_exp['ssim_exp'] = 100 - df_no_color_exp['ssim']"
   ]
  },
  {
   "cell_type": "code",
   "execution_count": 13,
   "id": "97fe00a3",
   "metadata": {},
   "outputs": [
    {
     "data": {
      "text/plain": [
       "<matplotlib.legend.Legend at 0x7fd44a5dfe80>"
      ]
     },
     "execution_count": 13,
     "metadata": {},
     "output_type": "execute_result"
    },
    {
     "data": {
      "image/png": "[encoded data removed]",
      "text/plain": [
       "<Figure size 432x288 with 1 Axes>"
      ]
     },
     "metadata": {
      "needs_background": "light"
     },
     "output_type": "display_data"
    }
   ],
   "source": [
    "ax = sns.lineplot(data=df_no_color_exp, x='stage', y='ssim_exp', hue='comparison_type')\n",
    "ax.legend(loc='center right', bbox_to_anchor=(1.25, 0.5), ncol=1)"
   ]
  }
 ],
 "metadata": {
  "kernelspec": {
   "display_name": "Python 3",
   "language": "python",
   "name": "python3"
  },
  "language_info": {
   "codemirror_mode": {
    "name": "ipython",
    "version": 3
   },
   "file_extension": ".py",
   "mimetype": "text/x-python",
   "name": "python",
   "nbconvert_exporter": "python",
   "pygments_lexer": "ipython3",
   "version": "3.8.8"
  }
 },
 "nbformat": 4,
 "nbformat_minor": 5
}
