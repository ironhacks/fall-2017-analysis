{
 "cells": [
  {
   "cell_type": "markdown",
   "id": "80d0e72e",
   "metadata": {},
   "source": [
    "## Descriptive Analysis for Gold IronHack Fall 2016 ( Purdue )"
   ]
  },
  {
   "cell_type": "markdown",
   "id": "4e403227",
   "metadata": {},
   "source": [
    "## Construct panel data with colors "
   ]
  },
  {
   "cell_type": "code",
   "execution_count": 1,
   "id": "79918fd8",
   "metadata": {},
   "outputs": [],
   "source": [
    "import pandas as pd\n",
    "import seaborn as sns\n",
    "df_12 = pd.read_csv(\"../data/BlackIronHack-Phase1-BlackIronHack-Phase2/BlackIronHack-Phase1-BlackIronHack-Phase2–raw-results.csv\")\n",
    "df_23 = pd.read_csv(\"../data/BlackIronHack-Phase2-BlackIronHack-Phase3/BlackIronHack-Phase2-BlackIronHack-Phase3–raw-results.csv\")\n",
    "df_34 = pd.read_csv(\"../data/BlackIronHack-Phase3-BlackIronHack-Phase4/BlackIronHack-Phase3-BlackIronHack-Phase4–raw-results.csv\")\n",
    "df_12['stage'] = 1\n",
    "df_23['stage'] = 2\n",
    "df_34['stage'] = 3"
   ]
  },
  {
   "cell_type": "code",
   "execution_count": 2,
   "id": "b83032bb",
   "metadata": {},
   "outputs": [
    {
     "data": {
      "text/html": [
       "<div>\n",
       "<style scoped>\n",
       "    .dataframe tbody tr th:only-of-type {\n",
       "        vertical-align: middle;\n",
       "    }\n",
       "\n",
       "    .dataframe tbody tr th {\n",
       "        vertical-align: top;\n",
       "    }\n",
       "\n",
       "    .dataframe thead th {\n",
       "        text-align: right;\n",
       "    }\n",
       "</style>\n",
       "<table border=\"1\" class=\"dataframe\">\n",
       "  <thead>\n",
       "    <tr style=\"text-align: right;\">\n",
       "      <th></th>\n",
       "      <th>username1</th>\n",
       "      <th>username2</th>\n",
       "      <th>link1</th>\n",
       "      <th>link2</th>\n",
       "      <th>comparison_type</th>\n",
       "      <th>ssim</th>\n",
       "      <th>features2d</th>\n",
       "      <th>stage</th>\n",
       "    </tr>\n",
       "  </thead>\n",
       "  <tbody>\n",
       "    <tr>\n",
       "      <th>0</th>\n",
       "      <td>cg505</td>\n",
       "      <td>danzheng</td>\n",
       "      <td>http://blackironhack-cg505-2016p1.herokuapp.com/</td>\n",
       "      <td>http://blackironhack-danzheng-2016p2.herokuapp...</td>\n",
       "      <td>maps</td>\n",
       "      <td>51.3</td>\n",
       "      <td>45.6</td>\n",
       "      <td>1</td>\n",
       "    </tr>\n",
       "    <tr>\n",
       "      <th>1</th>\n",
       "      <td>cg505</td>\n",
       "      <td>lennax</td>\n",
       "      <td>http://blackironhack-cg505-2016p1.herokuapp.com/</td>\n",
       "      <td>http://blackironhack-lennax-2016p2.herokuapp.com/</td>\n",
       "      <td>maps</td>\n",
       "      <td>47.8</td>\n",
       "      <td>47.4</td>\n",
       "      <td>1</td>\n",
       "    </tr>\n",
       "    <tr>\n",
       "      <th>2</th>\n",
       "      <td>cg505</td>\n",
       "      <td>analyst1001</td>\n",
       "      <td>http://blackironhack-cg505-2016p1.herokuapp.com/</td>\n",
       "      <td>http://blackironhack2016.herokuapp.com/p2-anal...</td>\n",
       "      <td>maps</td>\n",
       "      <td>100.0</td>\n",
       "      <td>100.0</td>\n",
       "      <td>1</td>\n",
       "    </tr>\n",
       "    <tr>\n",
       "      <th>3</th>\n",
       "      <td>cg505</td>\n",
       "      <td>chriscoraggio</td>\n",
       "      <td>http://blackironhack-cg505-2016p1.herokuapp.com/</td>\n",
       "      <td>http://blackironhack2016.herokuapp.com/p2-chri...</td>\n",
       "      <td>maps</td>\n",
       "      <td>45.4</td>\n",
       "      <td>43.0</td>\n",
       "      <td>1</td>\n",
       "    </tr>\n",
       "    <tr>\n",
       "      <th>4</th>\n",
       "      <td>cg505</td>\n",
       "      <td>drewatk</td>\n",
       "      <td>http://blackironhack-cg505-2016p1.herokuapp.com/</td>\n",
       "      <td>http://blackironhack2016.herokuapp.com/p2-drew...</td>\n",
       "      <td>maps</td>\n",
       "      <td>39.1</td>\n",
       "      <td>100.0</td>\n",
       "      <td>1</td>\n",
       "    </tr>\n",
       "    <tr>\n",
       "      <th>...</th>\n",
       "      <td>...</td>\n",
       "      <td>...</td>\n",
       "      <td>...</td>\n",
       "      <td>...</td>\n",
       "      <td>...</td>\n",
       "      <td>...</td>\n",
       "      <td>...</td>\n",
       "      <td>...</td>\n",
       "    </tr>\n",
       "    <tr>\n",
       "      <th>1875</th>\n",
       "      <td>2016-Purdue-Ironhack-Tutorials</td>\n",
       "      <td>6</td>\n",
       "      <td>http://rawgit.com/priyankjain/2016-Purdue-Iron...</td>\n",
       "      <td>http://blackironhack-6-2016.herokuapp.com/</td>\n",
       "      <td>simple</td>\n",
       "      <td>100.0</td>\n",
       "      <td>100.0</td>\n",
       "      <td>3</td>\n",
       "    </tr>\n",
       "    <tr>\n",
       "      <th>1876</th>\n",
       "      <td>2016-Purdue-Ironhack-Tutorials</td>\n",
       "      <td>7</td>\n",
       "      <td>http://rawgit.com/priyankjain/2016-Purdue-Iron...</td>\n",
       "      <td>http://blackironhack-7-2016.herokuapp.com/</td>\n",
       "      <td>simple</td>\n",
       "      <td>71.8</td>\n",
       "      <td>87.3</td>\n",
       "      <td>3</td>\n",
       "    </tr>\n",
       "    <tr>\n",
       "      <th>1877</th>\n",
       "      <td>2016-Purdue-Ironhack-Tutorials</td>\n",
       "      <td>8</td>\n",
       "      <td>http://rawgit.com/priyankjain/2016-Purdue-Iron...</td>\n",
       "      <td>http://blackironhack-8-2016.herokuapp.com/</td>\n",
       "      <td>simple</td>\n",
       "      <td>100.0</td>\n",
       "      <td>100.0</td>\n",
       "      <td>3</td>\n",
       "    </tr>\n",
       "    <tr>\n",
       "      <th>1878</th>\n",
       "      <td>2016-Purdue-Ironhack-Tutorials</td>\n",
       "      <td>9</td>\n",
       "      <td>http://rawgit.com/priyankjain/2016-Purdue-Iron...</td>\n",
       "      <td>http://blackironhack-9-2016.herokuapp.com/</td>\n",
       "      <td>simple</td>\n",
       "      <td>100.0</td>\n",
       "      <td>100.0</td>\n",
       "      <td>3</td>\n",
       "    </tr>\n",
       "    <tr>\n",
       "      <th>1879</th>\n",
       "      <td>2016-Purdue-Ironhack-Tutorials</td>\n",
       "      <td>2016-Purdue-Ironhack-Tutorials</td>\n",
       "      <td>http://rawgit.com/priyankjain/2016-Purdue-Iron...</td>\n",
       "      <td>http://rawgit.com/priyankjain/2016-Purdue-Iron...</td>\n",
       "      <td>simple</td>\n",
       "      <td>100.0</td>\n",
       "      <td>100.0</td>\n",
       "      <td>3</td>\n",
       "    </tr>\n",
       "  </tbody>\n",
       "</table>\n",
       "<p>1880 rows × 8 columns</p>\n",
       "</div>"
      ],
      "text/plain": [
       "                           username1                       username2  \\\n",
       "0                              cg505                        danzheng   \n",
       "1                              cg505                          lennax   \n",
       "2                              cg505                     analyst1001   \n",
       "3                              cg505                   chriscoraggio   \n",
       "4                              cg505                         drewatk   \n",
       "...                              ...                             ...   \n",
       "1875  2016-Purdue-Ironhack-Tutorials                               6   \n",
       "1876  2016-Purdue-Ironhack-Tutorials                               7   \n",
       "1877  2016-Purdue-Ironhack-Tutorials                               8   \n",
       "1878  2016-Purdue-Ironhack-Tutorials                               9   \n",
       "1879  2016-Purdue-Ironhack-Tutorials  2016-Purdue-Ironhack-Tutorials   \n",
       "\n",
       "                                                  link1  \\\n",
       "0      http://blackironhack-cg505-2016p1.herokuapp.com/   \n",
       "1      http://blackironhack-cg505-2016p1.herokuapp.com/   \n",
       "2      http://blackironhack-cg505-2016p1.herokuapp.com/   \n",
       "3      http://blackironhack-cg505-2016p1.herokuapp.com/   \n",
       "4      http://blackironhack-cg505-2016p1.herokuapp.com/   \n",
       "...                                                 ...   \n",
       "1875  http://rawgit.com/priyankjain/2016-Purdue-Iron...   \n",
       "1876  http://rawgit.com/priyankjain/2016-Purdue-Iron...   \n",
       "1877  http://rawgit.com/priyankjain/2016-Purdue-Iron...   \n",
       "1878  http://rawgit.com/priyankjain/2016-Purdue-Iron...   \n",
       "1879  http://rawgit.com/priyankjain/2016-Purdue-Iron...   \n",
       "\n",
       "                                                  link2 comparison_type  \\\n",
       "0     http://blackironhack-danzheng-2016p2.herokuapp...            maps   \n",
       "1     http://blackironhack-lennax-2016p2.herokuapp.com/            maps   \n",
       "2     http://blackironhack2016.herokuapp.com/p2-anal...            maps   \n",
       "3     http://blackironhack2016.herokuapp.com/p2-chri...            maps   \n",
       "4     http://blackironhack2016.herokuapp.com/p2-drew...            maps   \n",
       "...                                                 ...             ...   \n",
       "1875         http://blackironhack-6-2016.herokuapp.com/          simple   \n",
       "1876         http://blackironhack-7-2016.herokuapp.com/          simple   \n",
       "1877         http://blackironhack-8-2016.herokuapp.com/          simple   \n",
       "1878         http://blackironhack-9-2016.herokuapp.com/          simple   \n",
       "1879  http://rawgit.com/priyankjain/2016-Purdue-Iron...          simple   \n",
       "\n",
       "       ssim  features2d  stage  \n",
       "0      51.3        45.6      1  \n",
       "1      47.8        47.4      1  \n",
       "2     100.0       100.0      1  \n",
       "3      45.4        43.0      1  \n",
       "4      39.1       100.0      1  \n",
       "...     ...         ...    ...  \n",
       "1875  100.0       100.0      3  \n",
       "1876   71.8        87.3      3  \n",
       "1877  100.0       100.0      3  \n",
       "1878  100.0       100.0      3  \n",
       "1879  100.0       100.0      3  \n",
       "\n",
       "[1880 rows x 8 columns]"
      ]
     },
     "execution_count": 2,
     "metadata": {},
     "output_type": "execute_result"
    }
   ],
   "source": [
    "df_color = pd.concat([df_12, df_23, df_34], ignore_index=True)\n",
    "df_color"
   ]
  },
  {
   "cell_type": "code",
   "execution_count": 3,
   "id": "2e93583e",
   "metadata": {},
   "outputs": [
    {
     "data": {
      "text/plain": [
       "0        51.3\n",
       "1        47.8\n",
       "2       100.0\n",
       "3        45.4\n",
       "4        39.1\n",
       "        ...  \n",
       "1875    100.0\n",
       "1876     71.8\n",
       "1877    100.0\n",
       "1878    100.0\n",
       "1879    100.0\n",
       "Name: ssim, Length: 1880, dtype: float64"
      ]
     },
     "execution_count": 3,
     "metadata": {},
     "output_type": "execute_result"
    }
   ],
   "source": [
    "df_color['ssim'] = pd.to_numeric(df_color['ssim'], errors='coerce').fillna(0, downcast='infer')\n",
    "df_color['ssim']"
   ]
  },
  {
   "cell_type": "code",
   "execution_count": 4,
   "id": "865320fe",
   "metadata": {},
   "outputs": [
    {
     "data": {
      "text/plain": [
       "0         maps\n",
       "1         maps\n",
       "2         maps\n",
       "3         maps\n",
       "4         maps\n",
       "         ...  \n",
       "1875    simple\n",
       "1876    simple\n",
       "1877    simple\n",
       "1878    simple\n",
       "1879    simple\n",
       "Name: comparison_type, Length: 1880, dtype: object"
      ]
     },
     "execution_count": 4,
     "metadata": {},
     "output_type": "execute_result"
    }
   ],
   "source": [
    "df_color['comparison_type'] = df_color['comparison_type'].astype('str')\n",
    "df_color['comparison_type']"
   ]
  },
  {
   "cell_type": "code",
   "execution_count": 5,
   "id": "1ff1b586",
   "metadata": {},
   "outputs": [
    {
     "name": "stderr",
     "output_type": "stream",
     "text": [
      "<ipython-input-5-bca2befd49fd>:2: SettingWithCopyWarning: \n",
      "A value is trying to be set on a copy of a slice from a DataFrame.\n",
      "Try using .loc[row_indexer,col_indexer] = value instead\n",
      "\n",
      "See the caveats in the documentation: https://pandas.pydata.org/pandas-docs/stable/user_guide/indexing.html#returning-a-view-versus-a-copy\n",
      "  df_color_exp['ssim_exp'] = 100 - df_color_exp['ssim']\n"
     ]
    }
   ],
   "source": [
    "df_color_exp = df_color[df_color['username1'] == df_color['username2']]\n",
    "df_color_exp['ssim_exp'] = 100 - df_color_exp['ssim']"
   ]
  },
  {
   "cell_type": "code",
   "execution_count": 6,
   "id": "b1458575",
   "metadata": {},
   "outputs": [
    {
     "data": {
      "text/plain": [
       "<AxesSubplot:xlabel='stage', ylabel='ssim_exp'>"
      ]
     },
     "execution_count": 6,
     "metadata": {},
     "output_type": "execute_result"
    },
    {
     "data": {
      "image/png": "[encoded data removed]",
      "text/plain": [
       "<Figure size 432x288 with 1 Axes>"
      ]
     },
     "metadata": {
      "needs_background": "light"
     },
     "output_type": "display_data"
    }
   ],
   "source": [
    "sns.lineplot(data=df_color_exp, x='stage', y='ssim_exp', hue='comparison_type')"
   ]
  },
  {
   "cell_type": "markdown",
   "id": "2e3fc877",
   "metadata": {},
   "source": [
    "## Construct panel data with no colors"
   ]
  },
  {
   "cell_type": "code",
   "execution_count": 7,
   "id": "ac09c552",
   "metadata": {},
   "outputs": [],
   "source": [
    "df_12 = pd.read_csv(\"../data/BlackIronHack-Phase1-BlackIronHack-Phase2/BlackIronHack-Phase1-BlackIronHack-Phase2–no-color-raw-results.csv\")\n",
    "df_23 = pd.read_csv(\"../data/BlackIronHack-Phase2-BlackIronHack-Phase3/BlackIronHack-Phase2-BlackIronHack-Phase3–no-color-raw-results.csv\")\n",
    "df_34 = pd.read_csv(\"../data/BlackIronHack-Phase3-BlackIronHack-Phase4/BlackIronHack-Phase3-BlackIronHack-Phase4–no-color-raw-results.csv\")\n",
    "df_12['stage'] = 1\n",
    "df_23['stage'] = 2\n",
    "df_34['stage'] = 3"
   ]
  },
  {
   "cell_type": "code",
   "execution_count": 8,
   "id": "8c5d09ea",
   "metadata": {},
   "outputs": [
    {
     "data": {
      "text/html": [
       "<div>\n",
       "<style scoped>\n",
       "    .dataframe tbody tr th:only-of-type {\n",
       "        vertical-align: middle;\n",
       "    }\n",
       "\n",
       "    .dataframe tbody tr th {\n",
       "        vertical-align: top;\n",
       "    }\n",
       "\n",
       "    .dataframe thead th {\n",
       "        text-align: right;\n",
       "    }\n",
       "</style>\n",
       "<table border=\"1\" class=\"dataframe\">\n",
       "  <thead>\n",
       "    <tr style=\"text-align: right;\">\n",
       "      <th></th>\n",
       "      <th>username1</th>\n",
       "      <th>username2</th>\n",
       "      <th>link1</th>\n",
       "      <th>link2</th>\n",
       "      <th>comparison_type</th>\n",
       "      <th>ssim</th>\n",
       "      <th>features2d</th>\n",
       "      <th>stage</th>\n",
       "    </tr>\n",
       "  </thead>\n",
       "  <tbody>\n",
       "    <tr>\n",
       "      <th>0</th>\n",
       "      <td>cg505</td>\n",
       "      <td>danzheng</td>\n",
       "      <td>http://blackironhack-cg505-2016p1.herokuapp.com/</td>\n",
       "      <td>http://blackironhack-danzheng-2016p2.herokuapp...</td>\n",
       "      <td>maps</td>\n",
       "      <td>58.1</td>\n",
       "      <td>98.0</td>\n",
       "      <td>1</td>\n",
       "    </tr>\n",
       "    <tr>\n",
       "      <th>1</th>\n",
       "      <td>cg505</td>\n",
       "      <td>lennax</td>\n",
       "      <td>http://blackironhack-cg505-2016p1.herokuapp.com/</td>\n",
       "      <td>http://blackironhack-lennax-2016p2.herokuapp.com/</td>\n",
       "      <td>maps</td>\n",
       "      <td>46.8</td>\n",
       "      <td>66.5</td>\n",
       "      <td>1</td>\n",
       "    </tr>\n",
       "    <tr>\n",
       "      <th>2</th>\n",
       "      <td>cg505</td>\n",
       "      <td>analyst1001</td>\n",
       "      <td>http://blackironhack-cg505-2016p1.herokuapp.com/</td>\n",
       "      <td>http://blackironhack2016.herokuapp.com/p2-anal...</td>\n",
       "      <td>maps</td>\n",
       "      <td>100.0</td>\n",
       "      <td>100.0</td>\n",
       "      <td>1</td>\n",
       "    </tr>\n",
       "    <tr>\n",
       "      <th>3</th>\n",
       "      <td>cg505</td>\n",
       "      <td>chriscoraggio</td>\n",
       "      <td>http://blackironhack-cg505-2016p1.herokuapp.com/</td>\n",
       "      <td>http://blackironhack2016.herokuapp.com/p2-chri...</td>\n",
       "      <td>maps</td>\n",
       "      <td>53.3</td>\n",
       "      <td>98.0</td>\n",
       "      <td>1</td>\n",
       "    </tr>\n",
       "    <tr>\n",
       "      <th>4</th>\n",
       "      <td>cg505</td>\n",
       "      <td>drewatk</td>\n",
       "      <td>http://blackironhack-cg505-2016p1.herokuapp.com/</td>\n",
       "      <td>http://blackironhack2016.herokuapp.com/p2-drew...</td>\n",
       "      <td>maps</td>\n",
       "      <td>40.3</td>\n",
       "      <td>100.0</td>\n",
       "      <td>1</td>\n",
       "    </tr>\n",
       "    <tr>\n",
       "      <th>...</th>\n",
       "      <td>...</td>\n",
       "      <td>...</td>\n",
       "      <td>...</td>\n",
       "      <td>...</td>\n",
       "      <td>...</td>\n",
       "      <td>...</td>\n",
       "      <td>...</td>\n",
       "      <td>...</td>\n",
       "    </tr>\n",
       "    <tr>\n",
       "      <th>1875</th>\n",
       "      <td>2016-Purdue-Ironhack-Tutorials</td>\n",
       "      <td>6</td>\n",
       "      <td>http://rawgit.com/priyankjain/2016-Purdue-Iron...</td>\n",
       "      <td>http://blackironhack-6-2016.herokuapp.com/</td>\n",
       "      <td>simple</td>\n",
       "      <td>99.8</td>\n",
       "      <td>100.0</td>\n",
       "      <td>3</td>\n",
       "    </tr>\n",
       "    <tr>\n",
       "      <th>1876</th>\n",
       "      <td>2016-Purdue-Ironhack-Tutorials</td>\n",
       "      <td>7</td>\n",
       "      <td>http://rawgit.com/priyankjain/2016-Purdue-Iron...</td>\n",
       "      <td>http://blackironhack-7-2016.herokuapp.com/</td>\n",
       "      <td>simple</td>\n",
       "      <td>85.6</td>\n",
       "      <td>91.5</td>\n",
       "      <td>3</td>\n",
       "    </tr>\n",
       "    <tr>\n",
       "      <th>1877</th>\n",
       "      <td>2016-Purdue-Ironhack-Tutorials</td>\n",
       "      <td>8</td>\n",
       "      <td>http://rawgit.com/priyankjain/2016-Purdue-Iron...</td>\n",
       "      <td>http://blackironhack-8-2016.herokuapp.com/</td>\n",
       "      <td>simple</td>\n",
       "      <td>99.9</td>\n",
       "      <td>100.0</td>\n",
       "      <td>3</td>\n",
       "    </tr>\n",
       "    <tr>\n",
       "      <th>1878</th>\n",
       "      <td>2016-Purdue-Ironhack-Tutorials</td>\n",
       "      <td>9</td>\n",
       "      <td>http://rawgit.com/priyankjain/2016-Purdue-Iron...</td>\n",
       "      <td>http://blackironhack-9-2016.herokuapp.com/</td>\n",
       "      <td>simple</td>\n",
       "      <td>100.0</td>\n",
       "      <td>100.0</td>\n",
       "      <td>3</td>\n",
       "    </tr>\n",
       "    <tr>\n",
       "      <th>1879</th>\n",
       "      <td>2016-Purdue-Ironhack-Tutorials</td>\n",
       "      <td>2016-Purdue-Ironhack-Tutorials</td>\n",
       "      <td>http://rawgit.com/priyankjain/2016-Purdue-Iron...</td>\n",
       "      <td>http://rawgit.com/priyankjain/2016-Purdue-Iron...</td>\n",
       "      <td>simple</td>\n",
       "      <td>99.9</td>\n",
       "      <td>100.0</td>\n",
       "      <td>3</td>\n",
       "    </tr>\n",
       "  </tbody>\n",
       "</table>\n",
       "<p>1880 rows × 8 columns</p>\n",
       "</div>"
      ],
      "text/plain": [
       "                           username1                       username2  \\\n",
       "0                              cg505                        danzheng   \n",
       "1                              cg505                          lennax   \n",
       "2                              cg505                     analyst1001   \n",
       "3                              cg505                   chriscoraggio   \n",
       "4                              cg505                         drewatk   \n",
       "...                              ...                             ...   \n",
       "1875  2016-Purdue-Ironhack-Tutorials                               6   \n",
       "1876  2016-Purdue-Ironhack-Tutorials                               7   \n",
       "1877  2016-Purdue-Ironhack-Tutorials                               8   \n",
       "1878  2016-Purdue-Ironhack-Tutorials                               9   \n",
       "1879  2016-Purdue-Ironhack-Tutorials  2016-Purdue-Ironhack-Tutorials   \n",
       "\n",
       "                                                  link1  \\\n",
       "0      http://blackironhack-cg505-2016p1.herokuapp.com/   \n",
       "1      http://blackironhack-cg505-2016p1.herokuapp.com/   \n",
       "2      http://blackironhack-cg505-2016p1.herokuapp.com/   \n",
       "3      http://blackironhack-cg505-2016p1.herokuapp.com/   \n",
       "4      http://blackironhack-cg505-2016p1.herokuapp.com/   \n",
       "...                                                 ...   \n",
       "1875  http://rawgit.com/priyankjain/2016-Purdue-Iron...   \n",
       "1876  http://rawgit.com/priyankjain/2016-Purdue-Iron...   \n",
       "1877  http://rawgit.com/priyankjain/2016-Purdue-Iron...   \n",
       "1878  http://rawgit.com/priyankjain/2016-Purdue-Iron...   \n",
       "1879  http://rawgit.com/priyankjain/2016-Purdue-Iron...   \n",
       "\n",
       "                                                  link2 comparison_type  \\\n",
       "0     http://blackironhack-danzheng-2016p2.herokuapp...            maps   \n",
       "1     http://blackironhack-lennax-2016p2.herokuapp.com/            maps   \n",
       "2     http://blackironhack2016.herokuapp.com/p2-anal...            maps   \n",
       "3     http://blackironhack2016.herokuapp.com/p2-chri...            maps   \n",
       "4     http://blackironhack2016.herokuapp.com/p2-drew...            maps   \n",
       "...                                                 ...             ...   \n",
       "1875         http://blackironhack-6-2016.herokuapp.com/          simple   \n",
       "1876         http://blackironhack-7-2016.herokuapp.com/          simple   \n",
       "1877         http://blackironhack-8-2016.herokuapp.com/          simple   \n",
       "1878         http://blackironhack-9-2016.herokuapp.com/          simple   \n",
       "1879  http://rawgit.com/priyankjain/2016-Purdue-Iron...          simple   \n",
       "\n",
       "       ssim  features2d  stage  \n",
       "0      58.1        98.0      1  \n",
       "1      46.8        66.5      1  \n",
       "2     100.0       100.0      1  \n",
       "3      53.3        98.0      1  \n",
       "4      40.3       100.0      1  \n",
       "...     ...         ...    ...  \n",
       "1875   99.8       100.0      3  \n",
       "1876   85.6        91.5      3  \n",
       "1877   99.9       100.0      3  \n",
       "1878  100.0       100.0      3  \n",
       "1879   99.9       100.0      3  \n",
       "\n",
       "[1880 rows x 8 columns]"
      ]
     },
     "execution_count": 8,
     "metadata": {},
     "output_type": "execute_result"
    }
   ],
   "source": [
    "df_no_color = pd.concat([df_12, df_23, df_34], ignore_index=True)\n",
    "df_no_color"
   ]
  },
  {
   "cell_type": "code",
   "execution_count": 9,
   "id": "e41bd3b9",
   "metadata": {},
   "outputs": [
    {
     "data": {
      "text/plain": [
       "0        58.1\n",
       "1        46.8\n",
       "2       100.0\n",
       "3        53.3\n",
       "4        40.3\n",
       "        ...  \n",
       "1875     99.8\n",
       "1876     85.6\n",
       "1877     99.9\n",
       "1878    100.0\n",
       "1879     99.9\n",
       "Name: ssim, Length: 1880, dtype: float64"
      ]
     },
     "execution_count": 9,
     "metadata": {},
     "output_type": "execute_result"
    }
   ],
   "source": [
    "df_no_color['ssim'] = pd.to_numeric(df_no_color['ssim'], errors='coerce').fillna(0, downcast='infer')\n",
    "df_no_color['ssim']"
   ]
  },
  {
   "cell_type": "code",
   "execution_count": 10,
   "id": "869a639e",
   "metadata": {},
   "outputs": [
    {
     "data": {
      "text/plain": [
       "0         maps\n",
       "1         maps\n",
       "2         maps\n",
       "3         maps\n",
       "4         maps\n",
       "         ...  \n",
       "1875    simple\n",
       "1876    simple\n",
       "1877    simple\n",
       "1878    simple\n",
       "1879    simple\n",
       "Name: comparison_type, Length: 1880, dtype: object"
      ]
     },
     "execution_count": 10,
     "metadata": {},
     "output_type": "execute_result"
    }
   ],
   "source": [
    "df_no_color['comparison_type'] = df_no_color['comparison_type'].astype('str')\n",
    "df_no_color['comparison_type']"
   ]
  },
  {
   "cell_type": "code",
   "execution_count": 11,
   "id": "8910a52b",
   "metadata": {},
   "outputs": [
    {
     "name": "stderr",
     "output_type": "stream",
     "text": [
      "<ipython-input-11-2ab218f13454>:2: SettingWithCopyWarning: \n",
      "A value is trying to be set on a copy of a slice from a DataFrame.\n",
      "Try using .loc[row_indexer,col_indexer] = value instead\n",
      "\n",
      "See the caveats in the documentation: https://pandas.pydata.org/pandas-docs/stable/user_guide/indexing.html#returning-a-view-versus-a-copy\n",
      "  df_no_color_exp['ssim_exp'] = 100 - df_no_color_exp['ssim']\n"
     ]
    }
   ],
   "source": [
    "df_no_color_exp = df_no_color[df_no_color['username1'] == df_no_color['username2']]\n",
    "df_no_color_exp['ssim_exp'] = 100 - df_no_color_exp['ssim']"
   ]
  },
  {
   "cell_type": "code",
   "execution_count": 12,
   "id": "97fe00a3",
   "metadata": {},
   "outputs": [
    {
     "data": {
      "text/plain": [
       "<matplotlib.legend.Legend at 0x7fbcf3ea4d60>"
      ]
     },
     "execution_count": 12,
     "metadata": {},
     "output_type": "execute_result"
    },
    {
     "data": {
      "image/png": "[encoded data removed]",
      "text/plain": [
       "<Figure size 432x288 with 1 Axes>"
      ]
     },
     "metadata": {
      "needs_background": "light"
     },
     "output_type": "display_data"
    }
   ],
   "source": [
    "ax = sns.lineplot(data=df_no_color_exp, x='stage', y='ssim_exp', hue='comparison_type')\n",
    "ax.legend(loc='center right', bbox_to_anchor=(1.25, 0.5), ncol=1)"
   ]
  },
  {
   "cell_type": "code",
   "execution_count": null,
   "id": "eb904961",
   "metadata": {},
   "outputs": [],
   "source": []
  }
 ],
 "metadata": {
  "kernelspec": {
   "display_name": "Python 3",
   "language": "python",
   "name": "python3"
  },
  "language_info": {
   "codemirror_mode": {
    "name": "ipython",
    "version": 3
   },
   "file_extension": ".py",
   "mimetype": "text/x-python",
   "name": "python",
   "nbconvert_exporter": "python",
   "pygments_lexer": "ipython3",
   "version": "3.8.8"
  }
 },
 "nbformat": 4,
 "nbformat_minor": 5
}
