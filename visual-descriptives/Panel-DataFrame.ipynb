{
 "cells": [
  {
   "cell_type": "markdown",
   "id": "39d8b229",
   "metadata": {},
   "source": [
    "## Overall Dataframe for Functions and Visual"
   ]
  },
  {
   "cell_type": "code",
   "execution_count": 1,
   "id": "d170f9f5",
   "metadata": {},
   "outputs": [],
   "source": [
    "import pandas as pd\n",
    "import numpy as np\n",
    "\n",
    "df = pd.read_csv(\"output/df_color_exp_unal0.csv\") \n",
    "df1 = pd.read_csv(\"output/df_color_exp_unal1.csv\") \n",
    "df2 = pd.read_csv(\"output/df_color_exp_unal2.csv\") \n",
    "df3 = pd.read_csv(\"output/df_color_exp_honors0.csv\")\n",
    "\n",
    "df['group'] = 0\n",
    "df1['group'] = 1\n",
    "df2['group'] = 2\n",
    "df3['group'] = 3\n",
    "\n",
    "temp = df1.append(df)\n",
    "temp2 = df2.append(temp)\n",
    "final = df3.append(temp2)\n",
    "final['ssim_exp_latest'] = final['ssim_exp'].div(100).round(6)\n",
    "final.loc[final['ssim_exp_latest'] == 0.0, 'ssim_exp_latest'] = 0.01\n",
    "final.loc[final['ssim_exp_latest'] == 1.0, 'ssim_exp_latest'] = 0.99\n",
    "final = final.rename(columns={'comparison_type': 'type', 'ssim_exp_latest': 'dist_search'})\n",
    "final.to_csv(\"final_visual.csv\")"
   ]
  },
  {
   "cell_type": "code",
   "execution_count": 3,
   "id": "57af520d",
   "metadata": {},
   "outputs": [],
   "source": [
    "final = final[final['type'] == 'complete']\n",
    "final.to_csv(\"complete.csv\")"
   ]
  },
  {
   "cell_type": "code",
   "execution_count": 21,
   "id": "3d7f111d",
   "metadata": {},
   "outputs": [
    {
     "data": {
      "text/plain": [
       "0.4349606299212599"
      ]
     },
     "execution_count": 21,
     "metadata": {},
     "output_type": "execute_result"
    }
   ],
   "source": [
    "final_1 = final[final['stage'] == 1]\n",
    "final_1_com = final_1[final_1['type'] == 'complete']\n",
    "final_1_com['dist_search'].mean()"
   ]
  },
  {
   "cell_type": "code",
   "execution_count": 22,
   "id": "6b735866",
   "metadata": {},
   "outputs": [
    {
     "data": {
      "text/plain": [
       "0.3041796874999998"
      ]
     },
     "execution_count": 22,
     "metadata": {},
     "output_type": "execute_result"
    }
   ],
   "source": [
    "final_1 = final[final['stage'] == 2]\n",
    "final_1_com = final_1[final_1['type'] == 'complete']\n",
    "final_1_com['dist_search'].mean()"
   ]
  },
  {
   "cell_type": "code",
   "execution_count": 23,
   "id": "74ad1924",
   "metadata": {},
   "outputs": [
    {
     "data": {
      "text/plain": [
       "0.2477835820895523"
      ]
     },
     "execution_count": 23,
     "metadata": {},
     "output_type": "execute_result"
    }
   ],
   "source": [
    "final_1 = final[final['stage'] == 3]\n",
    "final_1_com = final_1[final_1['type'] == 'complete']\n",
    "final_1_com['dist_search'].mean()"
   ]
  },
  {
   "cell_type": "code",
   "execution_count": 24,
   "id": "78ffd681",
   "metadata": {},
   "outputs": [
    {
     "data": {
      "text/plain": [
       "0.20639344262295112"
      ]
     },
     "execution_count": 24,
     "metadata": {},
     "output_type": "execute_result"
    }
   ],
   "source": [
    "final_1 = final[final['stage'] == 4]\n",
    "final_1_com = final_1[final_1['type'] == 'complete']\n",
    "final_1_com['dist_search'].mean()"
   ]
  },
  {
   "cell_type": "code",
   "execution_count": null,
   "id": "2faec262",
   "metadata": {},
   "outputs": [],
   "source": []
  },
  {
   "cell_type": "code",
   "execution_count": 3,
   "id": "4b04c7cc",
   "metadata": {},
   "outputs": [],
   "source": [
    "%store -r final_unal0_functions_complete\n",
    "%store -r final_unal1_functions_complete\n",
    "%store -r final_unal2_functions_complete\n",
    "\n",
    "df = pd.read_csv(\"final_unal0_functions_complete.csv\") \n",
    "df1 = pd.read_csv(\"final_unal1_functions_complete.csv\") \n",
    "df2 = pd.read_csv(\"final_unal2_functions_complete.csv\") \n",
    "\n",
    "df['group'] = 0\n",
    "df1['group'] = 1\n",
    "df2['group'] = 2\n",
    "\n",
    "temp = df1.append(df)\n",
    "final = df2.append(temp)\n",
    "\n",
    "final['ssim_exp_latest'] = final['ssim_exp'].div(100).round(6)\n",
    "final.loc[final['ssim_exp_latest'] == 0.0, 'ssim_exp_latest'] = 0.01\n",
    "final.loc[final['ssim_exp_latest'] == 1.0, 'ssim_exp_latest'] = 0.99\n",
    "final = final.rename(columns={'comparison_type': 'type', 'ssim_exp_latest': 'dist_search'})\n",
    "final['type'] = final['type'].str.replace('functions', 'Functions Search')\n",
    "final['type'] = final['type'].str.replace('complete', 'Visual Search')\n",
    "final.to_csv('final_functions.csv')\n"
   ]
  }
 ],
 "metadata": {
  "kernelspec": {
   "display_name": "Python 3",
   "language": "python",
   "name": "python3"
  },
  "language_info": {
   "codemirror_mode": {
    "name": "ipython",
    "version": 3
   },
   "file_extension": ".py",
   "mimetype": "text/x-python",
   "name": "python",
   "nbconvert_exporter": "python",
   "pygments_lexer": "ipython3",
   "version": "3.8.8"
  }
 },
 "nbformat": 4,
 "nbformat_minor": 5
}
